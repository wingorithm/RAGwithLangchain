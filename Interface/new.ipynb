{
 "cells": [
  {
   "cell_type": "code",
   "execution_count": 173,
   "metadata": {},
   "outputs": [
    {
     "data": {
      "text/plain": [
       "True"
      ]
     },
     "execution_count": 173,
     "metadata": {},
     "output_type": "execute_result"
    }
   ],
   "source": [
    "import os\n",
    "from dotenv import load_dotenv\n",
    "from langchain_community.document_loaders import TextLoader\n",
    "from langchain_community.embeddings.fake import FakeEmbeddings\n",
    "\n",
    "import json\n",
    "import logging\n",
    "import requests\n",
    "\n",
    "from langchain.chains import ConversationalRetrievalChain\n",
    "from langchain.chains import RetrievalQAWithSourcesChain\n",
    "from langchain_community.vectorstores import Vectara\n",
    "from langchain_community.vectorstores.vectara import SummaryConfig, MMRConfig, VectaraQueryConfig\n",
    "\n",
    "from langchain_text_splitters import CharacterTextSplitter\n",
    "from langchain_community.llms import HuggingFaceEndpoint\n",
    "from langchain_core.output_parsers import StrOutputParser\n",
    "from langchain.retrievers.self_query.base import SelfQueryRetriever\n",
    "from vectaraIntegration import get_knowledge\n",
    "\n",
    "load_dotenv()"
   ]
  },
  {
   "cell_type": "code",
   "execution_count": 174,
   "metadata": {},
   "outputs": [],
   "source": [
    "VECTARA_CUSTOMER_ID = os.getenv(\"VECTARA_CUSTOMER_ID\")\n",
    "VECTARA_CORPUS_ID = os.getenv(\"VECTARA_CORPUS_ID\")\n",
    "VECTARA_API_KEY = os.getenv(\"VECTARA_API_KEY\")\n",
    "\n",
    "vectorstore = Vectara(\n",
    "                vectara_customer_id=VECTARA_CUSTOMER_ID,\n",
    "                vectara_corpus_id=VECTARA_CORPUS_ID,\n",
    "                vectara_api_key=VECTARA_API_KEY\n",
    "                )"
   ]
  },
  {
   "cell_type": "code",
   "execution_count": 161,
   "metadata": {},
   "outputs": [],
   "source": [
    "# vectara = Vectara()\n",
    "# class VectaraQueryConfig:\n",
    "# k: int = 10\n",
    "# lambda_val: float = 0.0\n",
    "# filter: str = \"\"\n",
    "# score_threshold: Optional[float] = None\n",
    "# n_sentence_context: int = 2\n",
    "# mmr_config: MMRConfig = field(default_factory=MMRConfig)\n",
    "# summary_config: SummaryConfig = field(default_factory=SummaryConfig)\n",
    "\n",
    "query_config = VectaraQueryConfig(\n",
    "    k=7,  # Retrieve 20 documents instead of the default 10\n",
    "    # lambda_val=0.5,  # Adjust lexical match parameter\n",
    "    # filter=\"doc.category='news' and doc.lang='en'\",  # Filter by category and language\n",
    "    score_threshold=0.7,  # Only include documents with a score above 0.7\n",
    "    n_sentence_context=2,  # Include 3 sentences before/after the match\n",
    "    # mmr_config=MMRConfig(diversity_bias=0.8),  # Customize MMR configuration\n",
    "    summary_config=SummaryConfig(is_enabled=True),  # Set a summary length limit\n",
    ")\n",
    "\n",
    "vectara_retriever = vectorstore.vectara_query(\n",
    "    \"explain me about commonwealth bank\", \n",
    "    config = query_config\n",
    "    )\n",
    "# vectara_retriever = vectorstore.as_retriever(\n",
    "#     search_type=\"similarity_score_threshold\", \n",
    "#     search_kwargs={\"score_threshold\": 0.5, \n",
    "#                 \"k\": 5}\n",
    "#     )"
   ]
  },
  {
   "cell_type": "code",
   "execution_count": 158,
   "metadata": {},
   "outputs": [
    {
     "data": {
      "text/plain": [
       "VectaraQueryConfig(k=7, lambda_val=0.0, filter='', score_threshold=0.5, n_sentence_context=2, mmr_config=MMRConfig(is_enabled=False, mmr_k=50, diversity_bias=0.3), summary_config=SummaryConfig(is_enabled=True, max_results=7, response_lang='eng', prompt_name='vectara-summary-ext-v1.2.0'))"
      ]
     },
     "execution_count": 158,
     "metadata": {},
     "output_type": "execute_result"
    }
   ],
   "source": [
    "query_config"
   ]
  },
  {
   "cell_type": "code",
   "execution_count": 162,
   "metadata": {},
   "outputs": [
    {
     "data": {
      "text/plain": [
       "[(Document(page_content=\"Find out more\\n\\n\\nOur board\\n\\n\\nPaul O'Malley\\n\\n\\nChair\\n\\nRead more\\n\\n\\nMatt Comyn\\n\\n\\nManaging Director and Chief Executive Officer\\n\\nRead more\\n\\n\\nLyn Cobley\\n\\n\\nIndependent Non-Executive Director\\nRead more\\n\\n\\nJulie Galbo\\n\\n\\nIndependent Non-Executive Director\\nRead more\\n\\n\\nPeter Harmer\\n\\n\\nIndependent Non-Executive Director\\n\\nRead more\\n\\n\\nSimon Moutter\\n\\n\\nIndependent Non-Executive Director\\n\\nRead more\\n\\n\\nMary Padbury\\n\\n\\nIndependent Non-Executive Director\\n\\nRead more\\n\\n\\nAnne Templeman-Jones\\n\\n\\nIndependent Non-Executive Director\\n\\nRead more\\n\\n\\nRob Whitfield AM\\n\\n\\nIndependent Non-Executive Director\\n\\nRead more\\n\\n\\nCompany Secretaries\\n\\n\\nVicki Clarkson\\n\\n\\nCompany Secretary\\nRead more\\n\\n\\nKaren O'Flynn\\n\\n\\nCompany Secretary\\nRead more\\n\\n\\nMeet our executive leadership team Matt Comyn\\n\\n\\nManaging Director and Chief Executive Officer\\n\\nRead more\\n\\n\\nAlan Docherty\\n\\n\\nChief Financial Officer\\n\\nRead more\\n\\n\\nAndrew Hinchliff\\n\\n\\nGroup Executive, Institutional Banking and Markets\\n\\nRead more\\n\\n\\nSian Lewis\\n\\n\\nGroup Executive, Human Resources\\n\\nRead more\\n\\n\\nMonique Macleod\\n\\n\\nGroup Executive Marketing and Corporate Affairs\\nRead more\\n\\n\\nKaren O'Flynn\\n\\n\\nGroup General Counsel and Group Executive, Legal & Group Secretariat\\nRead more\\n\\n\\nStuart Munro\\n\\n\\nGroup Executive, Group Strategy\\nRead more\\n\\n\\nGavin Munroe\\n\\n\\nGroup Executive, Technology and Group Chief Information Officer\\nRead more\\n\\n\\nVittoria Shortt\\n\\n\\nASB Chief Executive\\n\\nRead more\\n\\n\\nAngus Sullivan\\n\\n\\nGroup Executive, Retail Banking Services\\n\\nRead more\\n\\n\\nSinead Taylor\\n\\n\\nChief Operations Officer\\nRead more\\n\\n\\nMichael Vacy-Lyle\\n\\n\\nGroup Executive, Business Banking\\nRead more\\n\\n\\nNigel Williams\\n\\n\\nGroup Chief Risk Officer\\n\\nRead more\\n\\n\\nHistory Commonwealth Bank was founded under the Commonwealth Bank Act in 1911 and commenced operations in 1912, empowered to conduct both savings and general banking business. Today, weâ€™ve grown to a business that serves 15.9 million customers, employs 48,900 people and has more than 800,000 shareholders. We offer a full range of financial services to help secure and enhance the financial wellbeing of Australiaâ€™s people, businesses and communities.\", metadata={'source': 'langchain', 'lang': 'eng', 'offset': '0', 'len': '167', 'speech': 'CommonWealth Our company'}),\n",
       "  0.7730848),\n",
       " (Document(page_content='The target market for this product will be found within the product’s\\nTarget Market Determination, available at commbank.com.au/tmd\\nThis product is issued by Commonwealth Bank of Australia\\nABN 48 123 123 124, AFSL 234945. Features at a glance Features at\\na glance\\nThe Commonwealth Private\\nBank Account is an exclusive\\ninterest bearing transaction\\naccount for Commonwealth\\nPrivate clients. At-call access to your money via online\\n(NetBank and the CommBank app),\\nTelephone Banking, ATMs and EFTPOS\\n\\n• No minimum balance requirements\\n• Banded interest rates\\n• Interest is calculated daily and credited\\nmonthly\\n• No monthly account keeping fee\\n• One card banking – access to your\\n    account through a Commonwealth\\n    Bank Debit Mastercard or Keycard\\n• Direct deposit of dividends and salary\\n• PayTo and direct debit of your regular\\n    bills and loan repayments\\n• Accessing your account through a\\n    Commonwealth Bank deposit card\\n\\n\\n\\n\\n\\n\\n\\n\\n\\n\\n\\n\\n\\n\\n\\n\\n\\n\\nCommonwealth Private Bank Account | 1 Why choose a Commonwealth Private Bank Account?', metadata={'page': '3', 'title': 'Commonwealth Private Bank Account', 'lang': 'eng', 'section': '2', 'offset': '1', 'len': '145', 'CreationDate': '1707870885', 'Producer': 'Adobe PDF Library 17.0', 'Author': 'CBA Commonwealth Bank Australia', 'Title': 'Commonwealth Private Bank Account', 'Creator': 'Adobe InDesign 19.0 (Macintosh)', 'ModDate': '1707873337', 'Trapped': '/False', 'Subject': 'Feb 2024', 'source': 'vectara'}),\n",
       "  0.7727428),\n",
       " (Document(page_content='ABN 48 123 123 124. All\\nrights reserved, except as permitted under the Australian Copyright Act\\n1968. Text, images and information incorporated in this Easy English\\npublication created by Scope (Aust) Ltd at scopeaust.org.au and\\nTobii Dynavox. Commonwealth Bank of Australia has undertaken reasonable enquiries\\nto identify where material or content is owned by third parties and\\nto secure permission for its use and reproduction. Permission may\\nneed to be obtained from third parties to use, reproduce or modify this\\nmaterial. Picture Communication Symbols (PCS) is a trademark of Tobii\\nDynavox, LLC.', metadata={'page': '24', 'lang': 'eng', 'section': '218', 'offset': '0', 'len': '185', 'CreationDate': '1638846300', 'Keywords': 'Scope; access; accessibility; Easy English; disability; Commonwealth Bank; NetBank', 'Producer': 'Adobe PDF Library 16.0.3', 'Author': 'Commonwealth Bank Australia', 'Title': 'How to use NetBank', 'Creator': 'Adobe InDesign 17.0 (Windows)', 'ModDate': '1639355495', 'Trapped': '/Unknown', 'Subject': 'An Easy English document produced by Commonwealth Bank about how to use NetBank.', 'title': 'How to use NetBank', 'source': 'vectara'}),\n",
       "  0.74763),\n",
       " (Document(page_content='All rights reserved, except as\\npermitted under the Australian Copyright Act 1968. Text, images and\\ninformation incorporated in this Easy English publication created by\\nScope (Aust) Ltd at scopeaust.org.au and Tobii Dynavox. Commonwealth Bank of Australia has undertaken reasonable enquiries\\nto identify where material or content is owned by third parties and\\nto secure permission for its use and reproduction. Permission may\\nneed to be obtained from third parties to use, reproduce or modify\\nthis material. The Picture Communication Symbols ©1981–2020 by\\nTobii Dynavox.', metadata={'page': '20', 'lang': 'eng', 'section': '154', 'offset': '0', 'len': '185', 'CreationDate': '1632103988', 'Producer': 'Adobe PDF Library 16.0', 'Title': 'Banking in Australia', 'Creator': 'Adobe InDesign 15.1 (Windows)', 'ModDate': '1633507153', 'Trapped': '/false', 'title': 'Banking in Australia', 'source': 'vectara'}),\n",
       "  0.74763),\n",
       " (Document(page_content='All rights reserved, except as\\npermitted under the Australian Copyright Act 1968. Text, images and\\ninformation incorporated in this Easy English publication created by\\nScope (Aust) Ltd at scopeaust.org.au and Tobii Dynavox. Commonwealth Bank of Australia has undertaken reasonable enquiries\\nto identify where material or content is owned by third parties and\\nto secure permission for its use and reproduction. Permission may\\nneed to be obtained from third parties to use, reproduce or modify\\nthis material. The Picture Communication Symbols ©1981–2020 by\\nTobii Dynavox.', metadata={'page': '20', 'lang': 'eng', 'section': '154', 'offset': '0', 'len': '185', 'CreationDate': '1632103988', 'Producer': 'Adobe PDF Library 16.0', 'Title': 'Banking in Australia', 'Creator': 'Adobe InDesign 15.1 (Windows)', 'ModDate': '1633507153', 'Trapped': '/false', 'title': 'Banking in Australia', 'source': 'vectara'}),\n",
       "  0.74763),\n",
       " (Document(page_content='Fees that apply for\\nspecial banking\\nservices, such as bank\\ncheques. A copy of the Commonwealth Private Bank\\nAccount Terms and Conditions is also\\navailable from your Private Banker and\\ncommbank.com.au/privatebankaccount\\nYou can also find useful information at\\ncommbank.com.au on a range of banking\\nmatters including the rights and obligations\\nthat arise out of the banker and customer\\nrelationship, account opening procedures,\\nthe Bank’s obligations regarding\\nconfidentiality of your information, the\\nBank’s complaint handling procedures, bank\\ncheques, the advisability of you informing\\nthe Bank promptly when you are in financial\\ndifficulty and the advisability of you reading\\nthe Terms and Conditions applying to any\\nbanking service provided to you or in which\\nyou are interested. The relevant provisions of the Banking Code\\nof Practice apply to a Commonwealth\\nPrivate Bank Account and any overdraft\\nfacility on that account if that account is\\nheld by an individual either alone or jointly,\\nor a small business. Definitions\\nAccount means a Commonwealth Private\\nBank Account. Business day means a day that is not a\\nSaturday or Sunday or a public holiday,\\nspecial holiday or bank holiday in the place in\\nwhich any relevant act is to be done or may\\nbe done.', metadata={'page': '5', 'title': 'Commonwealth Private Bank Account', 'lang': 'eng', 'section': '4', 'offset': '11005', 'len': '230', 'CreationDate': '1707870885', 'Producer': 'Adobe PDF Library 17.0', 'Author': 'CBA Commonwealth Bank Australia', 'Title': 'Commonwealth Private Bank Account', 'Creator': 'Adobe InDesign 19.0 (Macintosh)', 'ModDate': '1707873337', 'Trapped': '/False', 'Subject': 'Feb 2024', 'source': 'vectara'}),\n",
       "  0.7438238),\n",
       " (Document(page_content='Your banking should be too. Discover more\\r\\nThings you should know\\r\\n\\r\\n\\r\\nThis information has been prepared by Commonwealth Private Limited ABN 30 125 238 039 AFSL 314018, a wholly owned but non-guaranteed subsidiary of Commonwealth Bank of Australia ABN 48 123 123 124 AFSL and Australian credit licence 234945. Commonwealth Private’s services are provided by a team consisting of Private Bankers who are representatives of Commonwealth Bank and Private Wealth Managers who are representatives of Commonwealth Private Limited. Commonwealth Private Limited Financial Services Guide. Premier Banking is available for selected clients only and is a specialist service within the Retail Banking Services division of the Commonwealth Bank of Australia ABN 48 123 123 124 AFSL and Australian credit licence 234945 (the ‘Bank’) and its services are provided by Premier Banking Relationship Managers who are representatives of the Bank.', metadata={'lang': 'eng', 'section': '1', 'offset': '1691', 'len': '214', 'X-TIKA:Parsed-By': 'org.apache.tika.parser.csv.TextAndCSVParser', 'Content-Encoding': 'UTF-8', 'Content-Type': 'text/plain; charset=UTF-8', 'source': 'vectara'}),\n",
       "  0.7437364),\n",
       " (Document(page_content=\"The Commonwealth Bank of Australia, founded in 1911, serves 15.9 million customers and employs 48,900 people, offering a full range of financial services. It provides an exclusive interest-bearing transaction account for Commonwealth Private clients with features like at-call access, no minimum balance requirements, banded interest rates, and more. The bank's services are provided by Private Bankers and Private Wealth Managers under Commonwealth Private Limited, a subsidiary of the Commonwealth Bank of Australia. Premier Banking, a specialist service within the bank, is available for selected clients and is provided by Premier Banking Relationship Managers. The relevant provisions of the Banking Code of Practice apply to a Commonwealth Private Bank Account.[6][7]\", metadata={'summary': True}),\n",
       "  0.0)]"
      ]
     },
     "execution_count": 162,
     "metadata": {},
     "output_type": "execute_result"
    }
   ],
   "source": [
    "# docs = vectara_retriever.get_relevant_documents(\"what is commonwealth bank?\")\n",
    "vectara_retriever"
   ]
  },
  {
   "cell_type": "code",
   "execution_count": 179,
   "metadata": {},
   "outputs": [
    {
     "ename": "KeyError",
     "evalue": "'summary'",
     "output_type": "error",
     "traceback": [
      "\u001b[1;31m---------------------------------------------------------------------------\u001b[0m",
      "\u001b[1;31mKeyError\u001b[0m                                  Traceback (most recent call last)",
      "\u001b[1;32mc:\\Users\\bcamaster\\OneDrive - Bina Nusantara\\Machine Learning Roadmap\\VectaraHackaton\\App\\new.ipynb Cell 6\u001b[0m in \u001b[0;36m<cell line: 4>\u001b[1;34m()\u001b[0m\n\u001b[0;32m      <a href='vscode-notebook-cell:/c%3A/Users/bcamaster/OneDrive%20-%20Bina%20Nusantara/Machine%20Learning%20Roadmap/VectaraHackaton/App/new.ipynb#W5sZmlsZQ%3D%3D?line=0'>1</a>\u001b[0m \u001b[39m'''\u001b[39;00m\n\u001b[0;32m      <a href='vscode-notebook-cell:/c%3A/Users/bcamaster/OneDrive%20-%20Bina%20Nusantara/Machine%20Learning%20Roadmap/VectaraHackaton/App/new.ipynb#W5sZmlsZQ%3D%3D?line=1'>2</a>\u001b[0m \u001b[39m You can see in the results that the specific sources are referenced in the summary. Vectara issues these citations by putting them in [number] format in the summary text, where number starts from 1 and increases by 1 in each result in the responseList.\u001b[39;00m\n\u001b[0;32m      <a href='vscode-notebook-cell:/c%3A/Users/bcamaster/OneDrive%20-%20Bina%20Nusantara/Machine%20Learning%20Roadmap/VectaraHackaton/App/new.ipynb#W5sZmlsZQ%3D%3D?line=2'>3</a>\u001b[0m \u001b[39m'''\u001b[39;00m\n\u001b[1;32m----> <a href='vscode-notebook-cell:/c%3A/Users/bcamaster/OneDrive%20-%20Bina%20Nusantara/Machine%20Learning%20Roadmap/VectaraHackaton/App/new.ipynb#W5sZmlsZQ%3D%3D?line=3'>4</a>\u001b[0m knowledge_content, summary \u001b[39m=\u001b[39m get_knowledge(\u001b[39m\"\u001b[39;49m\u001b[39mexplain me about commonwealth bank\u001b[39;49m\u001b[39m\"\u001b[39;49m, vectorstore)\n",
      "File \u001b[1;32mc:\\Users\\bcamaster\\OneDrive - Bina Nusantara\\Machine Learning Roadmap\\VectaraHackaton\\App\\vectaraIntegration.py:65\u001b[0m, in \u001b[0;36mget_knowledge\u001b[1;34m(user_query, vectorstore)\u001b[0m\n\u001b[0;32m     63\u001b[0m summary_content \u001b[39m=\u001b[39m \u001b[39m\"\u001b[39m\u001b[39m\"\u001b[39m\n\u001b[0;32m     64\u001b[0m \u001b[39mfor\u001b[39;00m number, (score, doc) \u001b[39min\u001b[39;00m \u001b[39menumerate\u001b[39m(response):\n\u001b[1;32m---> 65\u001b[0m     \u001b[39mif\u001b[39;00m response[number][\u001b[39m0\u001b[39;49m]\u001b[39m.\u001b[39;49mmetadata[\u001b[39m\"\u001b[39;49m\u001b[39msummary\u001b[39;49m\u001b[39m\"\u001b[39;49m]:\n\u001b[0;32m     66\u001b[0m         summary_content \u001b[39m+\u001b[39m\u001b[39m=\u001b[39m \u001b[39mf\u001b[39m\u001b[39m\"\u001b[39m\u001b[39m{\u001b[39;00mresponse[number][\u001b[39m0\u001b[39m]\u001b[39m.\u001b[39mpage_content\u001b[39m}\u001b[39;00m\u001b[39m\\n\u001b[39;00m\u001b[39m\"\u001b[39m\n\u001b[0;32m     67\u001b[0m     knowledge_content \u001b[39m+\u001b[39m\u001b[39m=\u001b[39m \u001b[39mf\u001b[39m\u001b[39m\"\u001b[39m\u001b[39m{\u001b[39;00mresponse[number][\u001b[39m0\u001b[39m]\u001b[39m.\u001b[39mpage_content\u001b[39m}\u001b[39;00m\u001b[39m\\n\u001b[39;00m\u001b[39m\"\u001b[39m\n",
      "\u001b[1;31mKeyError\u001b[0m: 'summary'"
     ]
    }
   ],
   "source": [
    "  \n",
    "'''\n",
    " You can see in the results that the specific sources are referenced in the summary. Vectara issues these citations by putting them in [number] format in the summary text, where number starts from 1 and increases by 1 in each result in the responseList.\n",
    "'''\n",
    "knowledge_content, summary = get_knowledge(\"explain me about commonwealth bank\", vectorstore) #-> get documents from vectara Corpu\n",
    "\n",
    "# def get_knowledge(user_query):\n",
    "#   response = query(VECTARA_CUSTOMER_ID, \n",
    "#             VECTARA_CORPUS_ID,\n",
    "#             \"api.vectara.io\", \n",
    "#             VECTARA_API_KEY,\n",
    "#             user_query\n",
    "#             )\n",
    "\n",
    "#   response_set = response[0][\"responseSet\"][0]\n",
    "#   knowledge_content = \"\"\n",
    "#   # knowledge_content += f\"{response_set['summary'][0]['text']}\\n\"\n",
    "#   # knowledge_content += f\"{response_set['summary'][0]['text']}\\n\\nOTHER INFORMATION:\\n\"\n",
    "  \n",
    "#   for i in range(7):\n",
    "#     print(response_set['response'][i]['text'])\n",
    "#     # knowledge_content += f\"{response_set['response'][i]['text']}\\n\"\n",
    "\n",
    "#   return response\n",
    "\n",
    "# knowledge = get_knowledge(\"what is commonwealth bank?\")"
   ]
  },
  {
   "cell_type": "code",
   "execution_count": 170,
   "metadata": {},
   "outputs": [
    {
     "ename": "NameError",
     "evalue": "name 'Document' is not defined",
     "output_type": "error",
     "traceback": [
      "\u001b[1;31m---------------------------------------------------------------------------\u001b[0m",
      "\u001b[1;31mNameError\u001b[0m                                 Traceback (most recent call last)",
      "\u001b[1;32mc:\\Users\\bcamaster\\OneDrive - Bina Nusantara\\Machine Learning Roadmap\\VectaraHackaton\\App\\new.ipynb Cell 7\u001b[0m in \u001b[0;36m<cell line: 1>\u001b[1;34m()\u001b[0m\n\u001b[1;32m----> <a href='vscode-notebook-cell:/c%3A/Users/bcamaster/OneDrive%20-%20Bina%20Nusantara/Machine%20Learning%20Roadmap/VectaraHackaton/App/new.ipynb#X36sZmlsZQ%3D%3D?line=0'>1</a>\u001b[0m data \u001b[39m=\u001b[39m [(Document(page_content\u001b[39m=\u001b[39m\u001b[39m\"\u001b[39m\u001b[39m...\u001b[39m\u001b[39m\"\u001b[39m, metadata\u001b[39m=\u001b[39m{\u001b[39m'\u001b[39m\u001b[39msource\u001b[39m\u001b[39m'\u001b[39m: \u001b[39m'\u001b[39m\u001b[39mlangchain\u001b[39m\u001b[39m'\u001b[39m, \u001b[39m'\u001b[39m\u001b[39mlang\u001b[39m\u001b[39m'\u001b[39m: \u001b[39m'\u001b[39m\u001b[39meng\u001b[39m\u001b[39m'\u001b[39m, \u001b[39m'\u001b[39m\u001b[39moffset\u001b[39m\u001b[39m'\u001b[39m: \u001b[39m'\u001b[39m\u001b[39m0\u001b[39m\u001b[39m'\u001b[39m, \u001b[39m'\u001b[39m\u001b[39mlen\u001b[39m\u001b[39m'\u001b[39m: \u001b[39m'\u001b[39m\u001b[39m167\u001b[39m\u001b[39m'\u001b[39m, \u001b[39m'\u001b[39m\u001b[39mspeech\u001b[39m\u001b[39m'\u001b[39m: \u001b[39m'\u001b[39m\u001b[39mCommonWealth Our company\u001b[39m\u001b[39m'\u001b[39m}), \u001b[39m0.7730848\u001b[39m)]\n\u001b[0;32m      <a href='vscode-notebook-cell:/c%3A/Users/bcamaster/OneDrive%20-%20Bina%20Nusantara/Machine%20Learning%20Roadmap/VectaraHackaton/App/new.ipynb#X36sZmlsZQ%3D%3D?line=2'>3</a>\u001b[0m \u001b[39m# Access the first element of the list (assuming you only have one data point)\u001b[39;00m\n\u001b[0;32m      <a href='vscode-notebook-cell:/c%3A/Users/bcamaster/OneDrive%20-%20Bina%20Nusantara/Machine%20Learning%20Roadmap/VectaraHackaton/App/new.ipynb#X36sZmlsZQ%3D%3D?line=3'>4</a>\u001b[0m document, score \u001b[39m=\u001b[39m data[\u001b[39m0\u001b[39m]\n",
      "\u001b[1;31mNameError\u001b[0m: name 'Document' is not defined"
     ]
    }
   ],
   "source": [
    "data = [((page_content=\"...\", metadata={'source': 'langchain', 'lang': 'eng', 'offset': '0', 'len': '167', 'speech': 'CommonWealth Our company'}), 0.7730848)]\n",
    "\n",
    "# Access the first element of the list (assuming you only have one data point)\n",
    "document, score = data[0]\n",
    "\n",
    "# Access the metadata dictionary\n",
    "metadata = document.metadata\n",
    "\n",
    "# Get the source value\n",
    "source = metadata.get('source')\n",
    "\n",
    "# Print the source value\n",
    "print(source)"
   ]
  },
  {
   "cell_type": "code",
   "execution_count": 135,
   "metadata": {},
   "outputs": [
    {
     "data": {
      "text/plain": [
       "({'responseSet': [{'response': [{'text': 'Commonwealth Bank was founded under the Commonwealth Bank Act in 1911 and commenced operations in 1912, empowered to conduct both savings and general banking business.',\n",
       "      'score': 0.8127111,\n",
       "      'metadata': [{'name': 'source',\n",
       "        'value': '../Bank Product Data/CommonWealth Our company.txt'},\n",
       "       {'name': 'lang', 'value': 'eng'},\n",
       "       {'name': 'offset', 'value': '0'},\n",
       "       {'name': 'len', 'value': '167'}],\n",
       "      'documentIndex': 0,\n",
       "      'corpusKey': {'customerId': 0,\n",
       "       'corpusId': 2,\n",
       "       'semantics': 'DEFAULT',\n",
       "       'dim': [],\n",
       "       'metadataFilter': '',\n",
       "       'lexicalInterpolationConfig': None},\n",
       "      'resultOffset': 0,\n",
       "      'resultLength': 167},\n",
       "     {'text': 'Features at\\na glance\\nThe Commonwealth Private\\nBank Account is an exclusive\\ninterest bearing transaction\\naccount for Commonwealth\\nPrivate clients.',\n",
       "      'score': 0.8101821,\n",
       "      'metadata': [{'name': 'page', 'value': '3'},\n",
       "       {'name': 'title', 'value': 'Features at a glance'},\n",
       "       {'name': 'lang', 'value': 'eng'},\n",
       "       {'name': 'section', 'value': '2'},\n",
       "       {'name': 'offset', 'value': '1'},\n",
       "       {'name': 'len', 'value': '145'}],\n",
       "      'documentIndex': 1,\n",
       "      'corpusKey': {'customerId': 0,\n",
       "       'corpusId': 2,\n",
       "       'semantics': 'DEFAULT',\n",
       "       'dim': [],\n",
       "       'metadataFilter': '',\n",
       "       'lexicalInterpolationConfig': None},\n",
       "      'resultOffset': 0,\n",
       "      'resultLength': 145},\n",
       "     {'text': 'Commonwealth Bank of Australia.',\n",
       "      'score': 0.8077243,\n",
       "      'metadata': [{'name': 'page', 'value': '24'},\n",
       "       {'name': 'lang', 'value': 'eng'},\n",
       "       {'name': 'section', 'value': '218'},\n",
       "       {'name': 'offset', 'value': '400'},\n",
       "       {'name': 'len', 'value': '31'}],\n",
       "      'documentIndex': 2,\n",
       "      'corpusKey': {'customerId': 0,\n",
       "       'corpusId': 2,\n",
       "       'semantics': 'DEFAULT',\n",
       "       'dim': [],\n",
       "       'metadataFilter': '',\n",
       "       'lexicalInterpolationConfig': None},\n",
       "      'resultOffset': 0,\n",
       "      'resultLength': 31},\n",
       "     {'text': 'Commonwealth Bank of Australia.',\n",
       "      'score': 0.8077243,\n",
       "      'metadata': [{'name': 'page', 'value': '20'},\n",
       "       {'name': 'lang', 'value': 'eng'},\n",
       "       {'name': 'section', 'value': '154'},\n",
       "       {'name': 'offset', 'value': '444'},\n",
       "       {'name': 'len', 'value': '31'}],\n",
       "      'documentIndex': 3,\n",
       "      'corpusKey': {'customerId': 0,\n",
       "       'corpusId': 2,\n",
       "       'semantics': 'DEFAULT',\n",
       "       'dim': [],\n",
       "       'metadataFilter': '',\n",
       "       'lexicalInterpolationConfig': None},\n",
       "      'resultOffset': 0,\n",
       "      'resultLength': 31},\n",
       "     {'text': 'Commonwealth Bank of Australia.',\n",
       "      'score': 0.8077243,\n",
       "      'metadata': [{'name': 'page', 'value': '20'},\n",
       "       {'name': 'lang', 'value': 'eng'},\n",
       "       {'name': 'section', 'value': '154'},\n",
       "       {'name': 'offset', 'value': '444'},\n",
       "       {'name': 'len', 'value': '31'}],\n",
       "      'documentIndex': 4,\n",
       "      'corpusKey': {'customerId': 0,\n",
       "       'corpusId': 2,\n",
       "       'semantics': 'DEFAULT',\n",
       "       'dim': [],\n",
       "       'metadataFilter': '',\n",
       "       'lexicalInterpolationConfig': None},\n",
       "      'resultOffset': 0,\n",
       "      'resultLength': 31},\n",
       "     {'text': 'Commonwealth Private Bank Account',\n",
       "      'score': 0.8011458,\n",
       "      'metadata': [{'name': 'title_level', 'value': '1'},\n",
       "       {'name': 'is_title', 'value': 'true'},\n",
       "       {'name': 'lang', 'value': 'eng'}],\n",
       "      'documentIndex': 1,\n",
       "      'corpusKey': {'customerId': 0,\n",
       "       'corpusId': 2,\n",
       "       'semantics': 'DEFAULT',\n",
       "       'dim': [],\n",
       "       'metadataFilter': '',\n",
       "       'lexicalInterpolationConfig': None},\n",
       "      'resultOffset': 0,\n",
       "      'resultLength': 33},\n",
       "     {'text': 'Commonwealth Bank of Australia (ABN 48 123 123 124, Australian\\ncredit licence 234945) and any third party to whom we assign our\\nrights under your account.',\n",
       "      'score': 0.79071575,\n",
       "      'metadata': [{'name': 'page', 'value': '12'},\n",
       "       {'name': 'lang', 'value': 'eng'},\n",
       "       {'name': 'section', 'value': '82'},\n",
       "       {'name': 'offset', 'value': '0'},\n",
       "       {'name': 'len', 'value': '154'}],\n",
       "      'documentIndex': 5,\n",
       "      'corpusKey': {'customerId': 0,\n",
       "       'corpusId': 2,\n",
       "       'semantics': 'DEFAULT',\n",
       "       'dim': [],\n",
       "       'metadataFilter': '',\n",
       "       'lexicalInterpolationConfig': None},\n",
       "      'resultOffset': 0,\n",
       "      'resultLength': 154},\n",
       "     {'text': 'Commonwealth Bank of\\nAustralia (ABN 48 123 123\\n124, Australian credit licence\\n234945) and any third party\\nto whom we assign our rights\\nunder your account.',\n",
       "      'score': 0.79071575,\n",
       "      'metadata': [{'name': 'page', 'value': '41'},\n",
       "       {'name': 'lang', 'value': 'eng'},\n",
       "       {'name': 'section', 'value': '155'},\n",
       "       {'name': 'offset', 'value': '102'},\n",
       "       {'name': 'len', 'value': '154'}],\n",
       "      'documentIndex': 6,\n",
       "      'corpusKey': {'customerId': 0,\n",
       "       'corpusId': 2,\n",
       "       'semantics': 'DEFAULT',\n",
       "       'dim': [],\n",
       "       'metadataFilter': '',\n",
       "       'lexicalInterpolationConfig': None},\n",
       "      'resultOffset': 0,\n",
       "      'resultLength': 154},\n",
       "     {'text': 'For more information contact\\nCommonwealth Bank.',\n",
       "      'score': 0.78471184,\n",
       "      'metadata': [{'name': 'page', 'value': '20'},\n",
       "       {'name': 'lang', 'value': 'eng'},\n",
       "       {'name': 'section', 'value': '199'},\n",
       "       {'name': 'offset', 'value': '0'},\n",
       "       {'name': 'len', 'value': '47'}],\n",
       "      'documentIndex': 2,\n",
       "      'corpusKey': {'customerId': 0,\n",
       "       'corpusId': 2,\n",
       "       'semantics': 'DEFAULT',\n",
       "       'dim': [],\n",
       "       'metadataFilter': '',\n",
       "       'lexicalInterpolationConfig': None},\n",
       "      'resultOffset': 0,\n",
       "      'resultLength': 47},\n",
       "     {'text': 'Commonwealth Bank of Australia has undertaken reasonable enquiries\\nto identify where material or content is owned by third parties and\\nto secure permission for its use and reproduction.',\n",
       "      'score': 0.78187007,\n",
       "      'metadata': [{'name': 'page', 'value': '24'},\n",
       "       {'name': 'lang', 'value': 'eng'},\n",
       "       {'name': 'section', 'value': '218'},\n",
       "       {'name': 'offset', 'value': '0'},\n",
       "       {'name': 'len', 'value': '185'}],\n",
       "      'documentIndex': 2,\n",
       "      'corpusKey': {'customerId': 0,\n",
       "       'corpusId': 2,\n",
       "       'semantics': 'DEFAULT',\n",
       "       'dim': [],\n",
       "       'metadataFilter': '',\n",
       "       'lexicalInterpolationConfig': None},\n",
       "      'resultOffset': 0,\n",
       "      'resultLength': 185}],\n",
       "    'status': [],\n",
       "    'document': [{'id': '017612e09e2f201ba260f7eab7a7235d',\n",
       "      'metadata': [{'name': 'speech', 'value': 'CommonWealth Our company'},\n",
       "       {'name': 'source', 'value': 'langchain'}]},\n",
       "     {'id': '../Bank Product Data/Commonwealth_Private_Bank Account.pdf',\n",
       "      'metadata': [{'name': 'CreationDate', 'value': '1707870885'},\n",
       "       {'name': 'Producer', 'value': 'Adobe PDF Library 17.0'},\n",
       "       {'name': 'Author', 'value': 'CBA Commonwealth Bank Australia'},\n",
       "       {'name': 'Title', 'value': 'Commonwealth Private Bank Account'},\n",
       "       {'name': 'Creator', 'value': 'Adobe InDesign 19.0 (Macintosh)'},\n",
       "       {'name': 'ModDate', 'value': '1707873337'},\n",
       "       {'name': 'Trapped', 'value': '/False'},\n",
       "       {'name': 'Subject', 'value': 'Feb 2024'},\n",
       "       {'name': 'title', 'value': 'Commonwealth Private Bank Account'}]},\n",
       "     {'id': '../Bank Product Data/how-to-use-NetBank.pdf',\n",
       "      'metadata': [{'name': 'CreationDate', 'value': '1638846300'},\n",
       "       {'name': 'Keywords',\n",
       "        'value': 'Scope; access; accessibility; Easy English; disability; Commonwealth Bank; NetBank'},\n",
       "       {'name': 'Producer', 'value': 'Adobe PDF Library 16.0.3'},\n",
       "       {'name': 'Author', 'value': 'Commonwealth Bank Australia'},\n",
       "       {'name': 'Title', 'value': 'How to use NetBank'},\n",
       "       {'name': 'Creator', 'value': 'Adobe InDesign 17.0 (Windows)'},\n",
       "       {'name': 'ModDate', 'value': '1639355495'},\n",
       "       {'name': 'Trapped', 'value': '/Unknown'},\n",
       "       {'name': 'Subject',\n",
       "        'value': 'An Easy English document produced by Commonwealth Bank about how to use NetBank.'},\n",
       "       {'name': 'title', 'value': 'How to use NetBank'}]},\n",
       "     {'id': '../Bank Product Data/Banking-in-Australia-accessible.pdf',\n",
       "      'metadata': [{'name': 'CreationDate', 'value': '1632103988'},\n",
       "       {'name': 'Producer', 'value': 'Adobe PDF Library 16.0'},\n",
       "       {'name': 'Title', 'value': 'Banking in Australia'},\n",
       "       {'name': 'Creator', 'value': 'Adobe InDesign 15.1 (Windows)'},\n",
       "       {'name': 'ModDate', 'value': '1633507153'},\n",
       "       {'name': 'Trapped', 'value': '/false'},\n",
       "       {'name': 'title', 'value': 'Banking in Australia'}]},\n",
       "     {'id': 'C:\\\\\\\\Users\\\\\\\\bcamaster\\\\\\\\OneDrive - Bina Nusantara\\\\\\\\Machine Learning Roadmap\\\\\\\\VectaraHackaton\\\\\\\\Bank Product Data\\\\\\\\Banking-in-Australia-accessible.pdf',\n",
       "      'metadata': [{'name': 'CreationDate', 'value': '1632103988'},\n",
       "       {'name': 'Producer', 'value': 'Adobe PDF Library 16.0'},\n",
       "       {'name': 'Title', 'value': 'Banking in Australia'},\n",
       "       {'name': 'Creator', 'value': 'Adobe InDesign 15.1 (Windows)'},\n",
       "       {'name': 'ModDate', 'value': '1633507153'},\n",
       "       {'name': 'Trapped', 'value': '/false'},\n",
       "       {'name': 'title', 'value': 'Banking in Australia'}]},\n",
       "     {'id': '../Bank Product Data/StepPay terms and conditions.pdf',\n",
       "      'metadata': [{'name': 'CreationDate', 'value': '1709808312'},\n",
       "       {'name': 'NCCL_Standard', 'value': 'PDF/UA;WCAG 2.1 AA;'},\n",
       "       {'name': 'Keywords',\n",
       "        'value': '7-074, StepPay, Terms and Conditions, 007-074,'},\n",
       "       {'name': 'Producer', 'value': 'Adobe PDF Library 17.0'},\n",
       "       {'name': 'Author', 'value': 'CBA Forms Production'},\n",
       "       {'name': 'Title', 'value': 'StepPay Terms and Conditions'},\n",
       "       {'name': 'Creator', 'value': 'Adobe InDesign 18.5 (Macintosh)'},\n",
       "       {'name': 'ModDate', 'value': '1709810209'},\n",
       "       {'name': 'NCCL_App', 'value': 'PDF'},\n",
       "       {'name': 'Trapped', 'value': '/False'},\n",
       "       {'name': 'Subject', 'value': 'StepPay Terms and Conditions  ACC'},\n",
       "       {'name': 'NCCL_Status', 'value': 'Passed'},\n",
       "       {'name': 'title', 'value': 'StepPay Terms and Conditions'}]},\n",
       "     {'id': '../Bank Product Data/CommBank Credit Card Condition of Use.pdf',\n",
       "      'metadata': [{'name': 'CreationDate', 'value': '1696481795'},\n",
       "       {'name': 'Producer', 'value': 'Adobe PDF Library 17.0'},\n",
       "       {'name': 'Author', 'value': 'CBA Commonwealth Bank Australia'},\n",
       "       {'name': 'Title', 'value': 'Credit Card Condition of Use Updates'},\n",
       "       {'name': 'Creator', 'value': 'Adobe InDesign 18.5 (Macintosh)'},\n",
       "       {'name': 'ModDate', 'value': '1696482822'},\n",
       "       {'name': 'Trapped', 'value': '/False'},\n",
       "       {'name': 'Subject',\n",
       "        'value': 'S604 Credit Card Condition of Use Updates_ACC'},\n",
       "       {'name': 'title', 'value': 'Credit Card Condition of Use Updates'}]}],\n",
       "    'summary': [{'text': 'The Commonwealth Bank is an Australian financial institution that was established in 1911 under the Commonwealth Bank Act. It offers a range of banking services, including savings and general banking. The bank operates an exclusive interest-bearing transaction account for Commonwealth Private clients. Known as the Commonwealth Private Bank Account, it provides tailored financial solutions for high-net-worth individuals. The Commonwealth Bank of Australia is a prominent player in the Australian banking sector, known for its comprehensive financial products and services.',\n",
       "      'lang': 'eng',\n",
       "      'prompt': '',\n",
       "      'chat': {'conversationId': '',\n",
       "       'turnId': '',\n",
       "       'rephrasedQuery': '',\n",
       "       'status': None},\n",
       "      'factualConsistency': {'score': 0.7441291,\n",
       "       'status': {'code': 'OK', 'statusDetail': '', 'cause': None}},\n",
       "      'done': True,\n",
       "      'status': [],\n",
       "      'futureId': 2}],\n",
       "    'futureId': 1}],\n",
       "  'status': [],\n",
       "  'metrics': None},\n",
       " True)"
      ]
     },
     "execution_count": 135,
     "metadata": {},
     "output_type": "execute_result"
    }
   ],
   "source": [
    "knowledge"
   ]
  },
  {
   "cell_type": "code",
   "execution_count": 3,
   "metadata": {},
   "outputs": [],
   "source": [
    "# loader = TextLoader(\"../Bank Product Data/CommonWealth Our company.txt\")\n",
    "# documents = loader.load()\n",
    "# text_splitter = CharacterTextSplitter(chunk_size=1000, chunk_overlap=0)\n",
    "# docs = text_splitter.split_documents(documents)"
   ]
  },
  {
   "cell_type": "code",
   "execution_count": 153,
   "metadata": {},
   "outputs": [],
   "source": [
    "# vectara = Vectara.from_documents(\n",
    "#     docs,\n",
    "#     embedding=FakeEmbeddings(size=768),\n",
    "#     doc_metadata={\"speech\": \"CommonWealth Our company\"},\n",
    "# )"
   ]
  },
  {
   "cell_type": "code",
   "execution_count": 11,
   "metadata": {},
   "outputs": [],
   "source": [
    "# query = \"What did the president say about Ketanji Brown Jackson\"\n",
    "# found_docs = vectara.similarity_search(\n",
    "#     query, n_sentence_context=0)"
   ]
  },
  {
   "cell_type": "code",
   "execution_count": null,
   "metadata": {},
   "outputs": [],
   "source": [
    "# retriever.get_relevant_documents(query)[0]"
   ]
  },
  {
   "cell_type": "code",
   "execution_count": 7,
   "metadata": {},
   "outputs": [],
   "source": [
    "# from langchain.memory import ConversationBufferMemory\n",
    "\n",
    "# memory = ConversationBufferMemory(memory_key=\"chat_history\", return_messages=True)"
   ]
  },
  {
   "cell_type": "code",
   "execution_count": 56,
   "metadata": {},
   "outputs": [],
   "source": [
    "##################################\n",
    "question = \"explain me about commonwealth bank\"\n",
    "##################################"
   ]
  },
  {
   "cell_type": "code",
   "execution_count": 62,
   "metadata": {},
   "outputs": [
    {
     "name": "stdout",
     "output_type": "stream",
     "text": [
      "Token has not been saved to git credential helper. Pass `add_to_git_credential=True` if you want to set the git credential as well.\n",
      "Token is valid (permission: read).\n",
      "Your token has been saved to C:\\Users\\bcamaster\\.cache\\huggingface\\token\n",
      "Login successful\n"
     ]
    }
   ],
   "source": [
    "REPO_ID = \"google/gemma-7b\"\n",
    "HF_TOKEN = os.getenv(\"HF_TOKEN\")\n",
    "\n",
    "llm_base = HuggingFaceEndpoint(\n",
    "    repo_id=REPO_ID,\n",
    "    max_new_tokens=2000,\n",
    "    top_k=10,\n",
    "    top_p=0.95,\n",
    "    typical_p=0.95,\n",
    "    temperature=0.01,\n",
    "    repetition_penalty=1.03,\n",
    "    huggingfacehub_api_token=HF_TOKEN\n",
    ")\n",
    "\n",
    "# from transformers import pipeline\n",
    "# pipe = pipeline(\"text-generation\", model=\"google/gemma-2b\", max_new_tokens=2000)\n",
    "\n",
    "# vectara = Vectara()\n",
    "# retriever = SelfQueryRetriever.from_llm(\n",
    "#     llm_base, vectara, verbose=True\n",
    "# )#document_content_description, metadata_field_info,\n",
    "# retriever_vectara = vectara.as_retriever()\n",
    "\n",
    "# https://python.langchain.com/docs/integrations/providers/vectara/vectara_summary/\n",
    "# summary_config = {\"is_enabled\": True, \"max_results\": 5, \"response_lang\": \"eng\"}\n",
    "# retriever = vectorstore.as_retriever(\n",
    "#     search_kwargs={\"k\": 3, \"summary_config\": summary_config}\n",
    "# )"
   ]
  },
  {
   "cell_type": "code",
   "execution_count": null,
   "metadata": {},
   "outputs": [],
   "source": [
    "# IF USING PIPELINE\n",
    "# from langchain_community.llms.huggingface_pipeline import HuggingFacePipeline\n",
    "# llm = HuggingFacePipeline(pipeline=pipe)"
   ]
  },
  {
   "cell_type": "code",
   "execution_count": 74,
   "metadata": {},
   "outputs": [],
   "source": [
    "from langchain_core.prompts import PromptTemplate\n",
    "from langchain.chains import LLMChain\n",
    "\n",
    "prompt1 = PromptTemplate.from_template(\n",
    "    \"\"\"\n",
    "    Use these knowledge to give precise and compact answer : {knowledge}\n",
    "    the question: {question}\n",
    "    \"\"\"\n",
    ")\n",
    "\n",
    "prompt_in_chat_format = [\n",
    "    {\n",
    "        \"role\": \"system\",\n",
    "        \"content\": \"\"\"Using the information contained in the context,\n",
    "give a comprehensive answer to the question.\n",
    "Respond only to the question asked, response should be concise and relevant to the question.\n",
    "Provide the number of the source document when relevant.\n",
    "If the answer cannot be deduced from the context, do not give an answer.\"\"\",\n",
    "    },\n",
    "    {\n",
    "        \"role\": \"user\",\n",
    "        \"content\": \"\"\"Context:\n",
    "{context}\n",
    "---\n",
    "Now here is the question you need to answer.\n",
    "\n",
    "Question: {question}\"\"\",\n",
    "    },\n",
    "]\n",
    "\n",
    "llm = LLMChain(prompt=prompt1, llm=llm_base)\n",
    "# llm = prompt1 | llm_base"
   ]
  },
  {
   "cell_type": "code",
   "execution_count": 163,
   "metadata": {},
   "outputs": [],
   "source": [
    "# CHAIN | BUT NO RETRIVER\n",
    "\n",
    "def get_knowledge_content(vectara, query, threshold=0.5):\n",
    "    found_docs = vectara.similarity_search_with_score(\n",
    "        query,\n",
    "        score_threshold=threshold,\n",
    "        n_sentence_context = 1\n",
    "    )\n",
    "    knowledge_content = \"\"\n",
    "    for number, (score, doc) in enumerate(found_docs):\n",
    "        knowledge_content += f\"Document {number}: {found_docs[number][0].page_content}\\n\"\n",
    "    return found_docs\n",
    "\n",
    "knowledge_content = get_knowledge_content(vectorstore, question)\n",
    "\n",
    "# knowledge_content = get_knowledge(question)\n",
    "# result = llm.invoke({\"question\": question, \"knowledge\" : knowledge_content})\n",
    "# # print(result[\"knowledge\"])"
   ]
  },
  {
   "cell_type": "code",
   "execution_count": 164,
   "metadata": {},
   "outputs": [
    {
     "data": {
      "text/plain": [
       "[(Document(page_content=\"Matt Comyn\\n\\n\\nManaging Director and Chief Executive Officer\\n\\nRead more\\n\\n\\nAlan Docherty\\n\\n\\nChief Financial Officer\\n\\nRead more\\n\\n\\nAndrew Hinchliff\\n\\n\\nGroup Executive, Institutional Banking and Markets\\n\\nRead more\\n\\n\\nSian Lewis\\n\\n\\nGroup Executive, Human Resources\\n\\nRead more\\n\\n\\nMonique Macleod\\n\\n\\nGroup Executive Marketing and Corporate Affairs\\nRead more\\n\\n\\nKaren O'Flynn\\n\\n\\nGroup General Counsel and Group Executive, Legal & Group Secretariat\\nRead more\\n\\n\\nStuart Munro\\n\\n\\nGroup Executive, Group Strategy\\nRead more\\n\\n\\nGavin Munroe\\n\\n\\nGroup Executive, Technology and Group Chief Information Officer\\nRead more\\n\\n\\nVittoria Shortt\\n\\n\\nASB Chief Executive\\n\\nRead more\\n\\n\\nAngus Sullivan\\n\\n\\nGroup Executive, Retail Banking Services\\n\\nRead more\\n\\n\\nSinead Taylor\\n\\n\\nChief Operations Officer\\nRead more\\n\\n\\nMichael Vacy-Lyle\\n\\n\\nGroup Executive, Business Banking\\nRead more\\n\\n\\nNigel Williams\\n\\n\\nGroup Chief Risk Officer\\n\\nRead more\\n\\n\\nHistory Commonwealth Bank was founded under the Commonwealth Bank Act in 1911 and commenced operations in 1912, empowered to conduct both savings and general banking business. Today, weâ€™ve grown to a business that serves 15.9 million customers, employs 48,900 people and has more than 800,000 shareholders.\", metadata={'source': 'langchain', 'lang': 'eng', 'offset': '0', 'len': '167', 'speech': 'CommonWealth Our company'}),\n",
       "  0.7730848),\n",
       " (Document(page_content='Features at a glance Features at\\na glance\\nThe Commonwealth Private\\nBank Account is an exclusive\\ninterest bearing transaction\\naccount for Commonwealth\\nPrivate clients. At-call access to your money via online\\n(NetBank and the CommBank app),\\nTelephone Banking, ATMs and EFTPOS\\n\\n• No minimum balance requirements\\n• Banded interest rates\\n• Interest is calculated daily and credited\\nmonthly\\n• No monthly account keeping fee\\n• One card banking – access to your\\n    account through a Commonwealth\\n    Bank Debit Mastercard or Keycard\\n• Direct deposit of dividends and salary\\n• PayTo and direct debit of your regular\\n    bills and loan repayments\\n• Accessing your account through a\\n    Commonwealth Bank deposit card\\n\\n\\n\\n\\n\\n\\n\\n\\n\\n\\n\\n\\n\\n\\n\\n\\n\\n\\nCommonwealth Private Bank Account | 1', metadata={'page': '3', 'title': 'Commonwealth Private Bank Account', 'lang': 'eng', 'section': '2', 'offset': '1', 'len': '145', 'CreationDate': '1707870885', 'Producer': 'Adobe PDF Library 17.0', 'Author': 'CBA Commonwealth Bank Australia', 'Title': 'Commonwealth Private Bank Account', 'Creator': 'Adobe InDesign 19.0 (Macintosh)', 'ModDate': '1707873337', 'Trapped': '/False', 'Subject': 'Feb 2024', 'source': 'vectara'}),\n",
       "  0.7727428),\n",
       " (Document(page_content='Text, images and information incorporated in this Easy English\\npublication created by Scope (Aust) Ltd at scopeaust.org.au and\\nTobii Dynavox. Commonwealth Bank of Australia has undertaken reasonable enquiries\\nto identify where material or content is owned by third parties and\\nto secure permission for its use and reproduction. Permission may\\nneed to be obtained from third parties to use, reproduce or modify this\\nmaterial.', metadata={'page': '24', 'lang': 'eng', 'section': '218', 'offset': '0', 'len': '185', 'CreationDate': '1638846300', 'Keywords': 'Scope; access; accessibility; Easy English; disability; Commonwealth Bank; NetBank', 'Producer': 'Adobe PDF Library 16.0.3', 'Author': 'Commonwealth Bank Australia', 'Title': 'How to use NetBank', 'Creator': 'Adobe InDesign 17.0 (Windows)', 'ModDate': '1639355495', 'Trapped': '/Unknown', 'Subject': 'An Easy English document produced by Commonwealth Bank about how to use NetBank.', 'title': 'How to use NetBank', 'source': 'vectara'}),\n",
       "  0.74763),\n",
       " (Document(page_content='Text, images and\\ninformation incorporated in this Easy English publication created by\\nScope (Aust) Ltd at scopeaust.org.au and Tobii Dynavox. Commonwealth Bank of Australia has undertaken reasonable enquiries\\nto identify where material or content is owned by third parties and\\nto secure permission for its use and reproduction. Permission may\\nneed to be obtained from third parties to use, reproduce or modify\\nthis material.', metadata={'page': '20', 'lang': 'eng', 'section': '154', 'offset': '0', 'len': '185', 'CreationDate': '1632103988', 'Producer': 'Adobe PDF Library 16.0', 'Title': 'Banking in Australia', 'Creator': 'Adobe InDesign 15.1 (Windows)', 'ModDate': '1633507153', 'Trapped': '/false', 'title': 'Banking in Australia', 'source': 'vectara'}),\n",
       "  0.74763),\n",
       " (Document(page_content='Text, images and\\ninformation incorporated in this Easy English publication created by\\nScope (Aust) Ltd at scopeaust.org.au and Tobii Dynavox. Commonwealth Bank of Australia has undertaken reasonable enquiries\\nto identify where material or content is owned by third parties and\\nto secure permission for its use and reproduction. Permission may\\nneed to be obtained from third parties to use, reproduce or modify\\nthis material.', metadata={'page': '20', 'lang': 'eng', 'section': '154', 'offset': '0', 'len': '185', 'CreationDate': '1632103988', 'Producer': 'Adobe PDF Library 16.0', 'Title': 'Banking in Australia', 'Creator': 'Adobe InDesign 15.1 (Windows)', 'ModDate': '1633507153', 'Trapped': '/false', 'title': 'Banking in Australia', 'source': 'vectara'}),\n",
       "  0.74763),\n",
       " (Document(page_content='A copy of the Commonwealth Private Bank\\nAccount Terms and Conditions is also\\navailable from your Private Banker and\\ncommbank.com.au/privatebankaccount\\nYou can also find useful information at\\ncommbank.com.au on a range of banking\\nmatters including the rights and obligations\\nthat arise out of the banker and customer\\nrelationship, account opening procedures,\\nthe Bank’s obligations regarding\\nconfidentiality of your information, the\\nBank’s complaint handling procedures, bank\\ncheques, the advisability of you informing\\nthe Bank promptly when you are in financial\\ndifficulty and the advisability of you reading\\nthe Terms and Conditions applying to any\\nbanking service provided to you or in which\\nyou are interested. The relevant provisions of the Banking Code\\nof Practice apply to a Commonwealth\\nPrivate Bank Account and any overdraft\\nfacility on that account if that account is\\nheld by an individual either alone or jointly,\\nor a small business. Definitions\\nAccount means a Commonwealth Private\\nBank Account.', metadata={'page': '5', 'title': 'Commonwealth Private Bank Account', 'lang': 'eng', 'section': '4', 'offset': '11005', 'len': '230', 'CreationDate': '1707870885', 'Producer': 'Adobe PDF Library 17.0', 'Author': 'CBA Commonwealth Bank Australia', 'Title': 'Commonwealth Private Bank Account', 'Creator': 'Adobe InDesign 19.0 (Macintosh)', 'ModDate': '1707873337', 'Trapped': '/False', 'Subject': 'Feb 2024', 'source': 'vectara'}),\n",
       "  0.7438238),\n",
       " (Document(page_content='Discover more\\r\\nThings you should know\\r\\n\\r\\n\\r\\nThis information has been prepared by Commonwealth Private Limited ABN 30 125 238 039 AFSL 314018, a wholly owned but non-guaranteed subsidiary of Commonwealth Bank of Australia ABN 48 123 123 124 AFSL and Australian credit licence 234945. Commonwealth Private’s services are provided by a team consisting of Private Bankers who are representatives of Commonwealth Bank and Private Wealth Managers who are representatives of Commonwealth Private Limited. Commonwealth Private Limited Financial Services Guide.', metadata={'lang': 'eng', 'section': '1', 'offset': '1691', 'len': '214', 'X-TIKA:Parsed-By': 'org.apache.tika.parser.csv.TextAndCSVParser', 'Content-Encoding': 'UTF-8', 'Content-Type': 'text/plain; charset=UTF-8', 'source': 'vectara'}),\n",
       "  0.7437364),\n",
       " (Document(page_content='Explore more\\r\\n\\r\\n\\r\\n                    Our experience and knowledge\\r\\n                \\r\\n\\r\\n                    View our Economic Insights Hub\\r\\n                \\r\\n\\r\\n                    Contact us\\r\\nCommBank general enquiries\\r\\n\\r\\n\\xa0\\r\\n\\r\\n\\r\\nYour questions answered\\r\\n\\r\\n\\r\\nContact us\\r\\n\\r\\n\\r\\nVisit your nearest branch\\r\\n\\r\\n\\r\\nThings you should know\\r\\n\\r\\n\\r\\nThis information has been prepared by Commonwealth Private Limited ABN 30 125 238 039 AFSL 314018, a wholly owned but non-guaranteed subsidiary of Commonwealth Bank of Australia ABN 48 123 123 124 AFSL and Australian credit licence 234945. Commonwealth Private’s services are provided by a team consisting of Private Bankers who are representatives of Commonwealth Bank and Private Wealth Managers who are representatives of Commonwealth Private Limited. Commonwealth Private Limited Financial Services Guide (PDF)\\xa0and Retail Banking Services Financial Services Guide (PDF).', metadata={'lang': 'eng', 'section': '1', 'offset': '2775', 'len': '214', 'X-TIKA:Parsed-By': 'org.apache.tika.parser.csv.TextAndCSVParser', 'Content-Encoding': 'UTF-8', 'Content-Type': 'text/plain; charset=UTF-8', 'source': 'vectara'}),\n",
       "  0.7437364),\n",
       " (Document(page_content='Fees that apply for\\nspecial banking\\nservices, such as bank\\ncheques. A copy of the Commonwealth Private Bank\\nAccount Terms and Conditions is also\\navailable from your Private Banker and\\ncommbank.com.au/privatebankaccount\\nYou can also find useful information at\\ncommbank.com.au on a range of banking\\nmatters including the rights and obligations\\nthat arise out of the banker and customer\\nrelationship, account opening procedures,\\nthe Bank’s obligations regarding\\nconfidentiality of your information, the\\nBank’s complaint handling procedures, bank\\ncheques, the advisability of you informing\\nthe Bank promptly when you are in financial\\ndifficulty and the advisability of you reading\\nthe Terms and Conditions applying to any\\nbanking service provided to you or in which\\nyou are interested. The relevant provisions of the Banking Code\\nof Practice apply to a Commonwealth\\nPrivate Bank Account and any overdraft\\nfacility on that account if that account is\\nheld by an individual either alone or jointly,\\nor a small business.', metadata={'page': '5', 'title': 'Commonwealth Private Bank Account', 'lang': 'eng', 'section': '4', 'offset': '10291', 'len': '713', 'CreationDate': '1707870885', 'Producer': 'Adobe PDF Library 17.0', 'Author': 'CBA Commonwealth Bank Australia', 'Title': 'Commonwealth Private Bank Account', 'Creator': 'Adobe InDesign 19.0 (Macintosh)', 'ModDate': '1707873337', 'Trapped': '/False', 'Subject': 'Feb 2024', 'source': 'vectara'}),\n",
       "  0.73870164),\n",
       " (Document(page_content='Commonwealth Private Bank Account Commonwealth Private\\nBank Account\\n\\n\\n\\n\\n\\n\\n\\n\\n\\n\\n\\n\\n\\n\\n\\n\\n\\n\\n\\n\\n\\n\\n\\n15 February 2024\\nContents\\n\\nFeatures at a glance                           1\\nWhy choose a Commonwealth\\nPrivate Bank Account?', metadata={'title_level': '1', 'is_title': 'true', 'lang': 'eng', 'CreationDate': '1707870885', 'Producer': 'Adobe PDF Library 17.0', 'Author': 'CBA Commonwealth Bank Australia', 'Title': 'Commonwealth Private Bank Account', 'Creator': 'Adobe InDesign 19.0 (Macintosh)', 'ModDate': '1707873337', 'Trapped': '/False', 'Subject': 'Feb 2024', 'title': 'Commonwealth Private Bank Account', 'source': 'vectara'}),\n",
       "  0.7383523)]"
      ]
     },
     "execution_count": 164,
     "metadata": {},
     "output_type": "execute_result"
    }
   ],
   "source": [
    "knowledge_content"
   ]
  },
  {
   "cell_type": "code",
   "execution_count": 149,
   "metadata": {},
   "outputs": [
    {
     "data": {
      "text/plain": [
       "\"Document 0: Matt Comyn\\n\\n\\nManaging Director and Chief Executive Officer\\n\\nRead more\\n\\n\\nAlan Docherty\\n\\n\\nChief Financial Officer\\n\\nRead more\\n\\n\\nAndrew Hinchliff\\n\\n\\nGroup Executive, Institutional Banking and Markets\\n\\nRead more\\n\\n\\nSian Lewis\\n\\n\\nGroup Executive, Human Resources\\n\\nRead more\\n\\n\\nMonique Macleod\\n\\n\\nGroup Executive Marketing and Corporate Affairs\\nRead more\\n\\n\\nKaren O'Flynn\\n\\n\\nGroup General Counsel and Group Executive, Legal & Group Secretariat\\nRead more\\n\\n\\nStuart Munro\\n\\n\\nGroup Executive, Group Strategy\\nRead more\\n\\n\\nGavin Munroe\\n\\n\\nGroup Executive, Technology and Group Chief Information Officer\\nRead more\\n\\n\\nVittoria Shortt\\n\\n\\nASB Chief Executive\\n\\nRead more\\n\\n\\nAngus Sullivan\\n\\n\\nGroup Executive, Retail Banking Services\\n\\nRead more\\n\\n\\nSinead Taylor\\n\\n\\nChief Operations Officer\\nRead more\\n\\n\\nMichael Vacy-Lyle\\n\\n\\nGroup Executive, Business Banking\\nRead more\\n\\n\\nNigel Williams\\n\\n\\nGroup Chief Risk Officer\\n\\nRead more\\n\\n\\nHistory Commonwealth Bank was founded under the Commonwealth Bank Act in 1911 and commenced operations in 1912, empowered to conduct both savings and general banking business. Today, weâ€™ve grown to a business that serves 15.9 million customers, employs 48,900 people and has more than 800,000 shareholders.\\nDocument 1: Features at a glance Features at\\na glance\\nThe Commonwealth Private\\nBank Account is an exclusive\\ninterest bearing transaction\\naccount for Commonwealth\\nPrivate clients. At-call access to your money via online\\n(NetBank and the CommBank app),\\nTelephone Banking, ATMs and EFTPOS\\n\\n• No minimum balance requirements\\n• Banded interest rates\\n• Interest is calculated daily and credited\\nmonthly\\n• No monthly account keeping fee\\n• One card banking – access to your\\n    account through a Commonwealth\\n    Bank Debit Mastercard or Keycard\\n• Direct deposit of dividends and salary\\n• PayTo and direct debit of your regular\\n    bills and loan repayments\\n• Accessing your account through a\\n    Commonwealth Bank deposit card\\n\\n\\n\\n\\n\\n\\n\\n\\n\\n\\n\\n\\n\\n\\n\\n\\n\\n\\nCommonwealth Private Bank Account | 1\\nDocument 2: Text, images and information incorporated in this Easy English\\npublication created by Scope (Aust) Ltd at scopeaust.org.au and\\nTobii Dynavox. Commonwealth Bank of Australia has undertaken reasonable enquiries\\nto identify where material or content is owned by third parties and\\nto secure permission for its use and reproduction. Permission may\\nneed to be obtained from third parties to use, reproduce or modify this\\nmaterial.\\nDocument 3: Text, images and\\ninformation incorporated in this Easy English publication created by\\nScope (Aust) Ltd at scopeaust.org.au and Tobii Dynavox. Commonwealth Bank of Australia has undertaken reasonable enquiries\\nto identify where material or content is owned by third parties and\\nto secure permission for its use and reproduction. Permission may\\nneed to be obtained from third parties to use, reproduce or modify\\nthis material.\\nDocument 4: Text, images and\\ninformation incorporated in this Easy English publication created by\\nScope (Aust) Ltd at scopeaust.org.au and Tobii Dynavox. Commonwealth Bank of Australia has undertaken reasonable enquiries\\nto identify where material or content is owned by third parties and\\nto secure permission for its use and reproduction. Permission may\\nneed to be obtained from third parties to use, reproduce or modify\\nthis material.\\nDocument 5: A copy of the Commonwealth Private Bank\\nAccount Terms and Conditions is also\\navailable from your Private Banker and\\ncommbank.com.au/privatebankaccount\\nYou can also find useful information at\\ncommbank.com.au on a range of banking\\nmatters including the rights and obligations\\nthat arise out of the banker and customer\\nrelationship, account opening procedures,\\nthe Bank’s obligations regarding\\nconfidentiality of your information, the\\nBank’s complaint handling procedures, bank\\ncheques, the advisability of you informing\\nthe Bank promptly when you are in financial\\ndifficulty and the advisability of you reading\\nthe Terms and Conditions applying to any\\nbanking service provided to you or in which\\nyou are interested. The relevant provisions of the Banking Code\\nof Practice apply to a Commonwealth\\nPrivate Bank Account and any overdraft\\nfacility on that account if that account is\\nheld by an individual either alone or jointly,\\nor a small business. Definitions\\nAccount means a Commonwealth Private\\nBank Account.\\nDocument 6: Discover more\\r\\nThings you should know\\r\\n\\r\\n\\r\\nThis information has been prepared by Commonwealth Private Limited ABN 30 125 238 039 AFSL 314018, a wholly owned but non-guaranteed subsidiary of Commonwealth Bank of Australia ABN 48 123 123 124 AFSL and Australian credit licence 234945. Commonwealth Private’s services are provided by a team consisting of Private Bankers who are representatives of Commonwealth Bank and Private Wealth Managers who are representatives of Commonwealth Private Limited. Commonwealth Private Limited Financial Services Guide.\\nDocument 7: Explore more\\r\\n\\r\\n\\r\\n                    Our experience and knowledge\\r\\n                \\r\\n\\r\\n                    View our Economic Insights Hub\\r\\n                \\r\\n\\r\\n                    Contact us\\r\\nCommBank general enquiries\\r\\n\\r\\n\\xa0\\r\\n\\r\\n\\r\\nYour questions answered\\r\\n\\r\\n\\r\\nContact us\\r\\n\\r\\n\\r\\nVisit your nearest branch\\r\\n\\r\\n\\r\\nThings you should know\\r\\n\\r\\n\\r\\nThis information has been prepared by Commonwealth Private Limited ABN 30 125 238 039 AFSL 314018, a wholly owned but non-guaranteed subsidiary of Commonwealth Bank of Australia ABN 48 123 123 124 AFSL and Australian credit licence 234945. Commonwealth Private’s services are provided by a team consisting of Private Bankers who are representatives of Commonwealth Bank and Private Wealth Managers who are representatives of Commonwealth Private Limited. Commonwealth Private Limited Financial Services Guide (PDF)\\xa0and Retail Banking Services Financial Services Guide (PDF).\\nDocument 8: Fees that apply for\\nspecial banking\\nservices, such as bank\\ncheques. A copy of the Commonwealth Private Bank\\nAccount Terms and Conditions is also\\navailable from your Private Banker and\\ncommbank.com.au/privatebankaccount\\nYou can also find useful information at\\ncommbank.com.au on a range of banking\\nmatters including the rights and obligations\\nthat arise out of the banker and customer\\nrelationship, account opening procedures,\\nthe Bank’s obligations regarding\\nconfidentiality of your information, the\\nBank’s complaint handling procedures, bank\\ncheques, the advisability of you informing\\nthe Bank promptly when you are in financial\\ndifficulty and the advisability of you reading\\nthe Terms and Conditions applying to any\\nbanking service provided to you or in which\\nyou are interested. The relevant provisions of the Banking Code\\nof Practice apply to a Commonwealth\\nPrivate Bank Account and any overdraft\\nfacility on that account if that account is\\nheld by an individual either alone or jointly,\\nor a small business.\\nDocument 9: Commonwealth Private Bank Account Commonwealth Private\\nBank Account\\n\\n\\n\\n\\n\\n\\n\\n\\n\\n\\n\\n\\n\\n\\n\\n\\n\\n\\n\\n\\n\\n\\n\\n15 February 2024\\nContents\\n\\nFeatures at a glance                           1\\nWhy choose a Commonwealth\\nPrivate Bank Account?\\n\""
      ]
     },
     "execution_count": 149,
     "metadata": {},
     "output_type": "execute_result"
    }
   ],
   "source": [
    "knowledge_content"
   ]
  },
  {
   "cell_type": "code",
   "execution_count": 76,
   "metadata": {},
   "outputs": [
    {
     "name": "stdout",
     "output_type": "stream",
     "text": [
      "The Commonwealth Bank of Australia, established in 1911 under the Commonwealth Bank Act, commenced operations in 1912 to conduct savings and general banking business [1]. The bank offers exclusive interest-bearing transaction accounts for Commonwealth Private clients [2]. Commonwealth Bank of Australia takes measures to identify and secure permission for content owned by third parties [3].\n",
      "\n"
     ]
    }
   ],
   "source": [
    "print(result['knowledge'])"
   ]
  },
  {
   "cell_type": "code",
   "execution_count": 77,
   "metadata": {},
   "outputs": [
    {
     "name": "stdout",
     "output_type": "stream",
     "text": [
      "my answers are:  The Australian Prudential Regulation Authority (APRA) is responsible fro ensuring that banks have adequate capital resources. APRA has a number or powers to ensure that banks meet their obligations including suspending or revoking licences, appointing an administrator if a bank becomes insolvent; and taking over management of a failed institution.[4]\n"
     ]
    }
   ],
   "source": [
    "print(result['text'])"
   ]
  },
  {
   "cell_type": "code",
   "execution_count": 73,
   "metadata": {},
   "outputs": [
    {
     "name": "stdout",
     "output_type": "stream",
     "text": [
      "The first thing you need is a good understanding. You can find this by reading through your notes or textbook before answering any questions on it; make sure there aren't any gaps where information might be missing! Once we have all our bases covered then comes time for some practice with these types of problems - try using different methods such as substitution (replacing variables) instead if possible because sometimes they may seem easier than others but don't forget about those tricky ones either way though...\n"
     ]
    }
   ],
   "source": [
    "print(result)"
   ]
  },
  {
   "cell_type": "code",
   "execution_count": 92,
   "metadata": {},
   "outputs": [],
   "source": [
    "# gk pake memory dulu\n",
    "bot = ConversationalRetrievalChain.from_llm(\n",
    "    llm, retriever_vectara, verbose=True\n",
    ")\n",
    "\n",
    "# RetrievalQAWithSourcesChain.from_chain_type(\n",
    "#     llm=llm_base, chain_type=\"stuff\", retriever=retriever_vectara,\n",
    "#     chain_type_kwargs={\n",
    "#         \"prompt\": PromptTemplate(\n",
    "#             template=prompt_template,\n",
    "#             input_variables=[\"question\"])\n",
    "#         }\n",
    "#     )"
   ]
  },
  {
   "cell_type": "code",
   "execution_count": 35,
   "metadata": {},
   "outputs": [
    {
     "ename": "ValidationError",
     "evalue": "1 validation error for Generation\ntext\n  str type expected (type=type_error.str)",
     "output_type": "error",
     "traceback": [
      "\u001b[1;31m---------------------------------------------------------------------------\u001b[0m",
      "\u001b[1;31mValidationError\u001b[0m                           Traceback (most recent call last)",
      "\u001b[1;32mc:\\Users\\bcamaster\\OneDrive - Bina Nusantara\\Machine Learning Roadmap\\VectaraHackaton\\App\\new.ipynb Cell 13\u001b[0m in \u001b[0;36m<cell line: 2>\u001b[1;34m()\u001b[0m\n\u001b[0;32m      <a href='vscode-notebook-cell:/c%3A/Users/bcamaster/OneDrive%20-%20Bina%20Nusantara/Machine%20Learning%20Roadmap/VectaraHackaton/App/new.ipynb#X13sZmlsZQ%3D%3D?line=0'>1</a>\u001b[0m question \u001b[39m=\u001b[39m \u001b[39m\"\u001b[39m\u001b[39mwhat is commonwealth?\u001b[39m\u001b[39m\"\u001b[39m\n\u001b[1;32m----> <a href='vscode-notebook-cell:/c%3A/Users/bcamaster/OneDrive%20-%20Bina%20Nusantara/Machine%20Learning%20Roadmap/VectaraHackaton/App/new.ipynb#X13sZmlsZQ%3D%3D?line=1'>2</a>\u001b[0m result \u001b[39m=\u001b[39m bot\u001b[39m.\u001b[39;49minvoke({\u001b[39m\"\u001b[39;49m\u001b[39mquestion\u001b[39;49m\u001b[39m\"\u001b[39;49m: question})\n",
      "File \u001b[1;32mc:\\Users\\bcamaster\\AppData\\Local\\Programs\\Python\\Python310\\lib\\site-packages\\langchain\\chains\\base.py:163\u001b[0m, in \u001b[0;36mChain.invoke\u001b[1;34m(self, input, config, **kwargs)\u001b[0m\n\u001b[0;32m    161\u001b[0m \u001b[39mexcept\u001b[39;00m \u001b[39mBaseException\u001b[39;00m \u001b[39mas\u001b[39;00m e:\n\u001b[0;32m    162\u001b[0m     run_manager\u001b[39m.\u001b[39mon_chain_error(e)\n\u001b[1;32m--> 163\u001b[0m     \u001b[39mraise\u001b[39;00m e\n\u001b[0;32m    164\u001b[0m run_manager\u001b[39m.\u001b[39mon_chain_end(outputs)\n\u001b[0;32m    166\u001b[0m \u001b[39mif\u001b[39;00m include_run_info:\n",
      "File \u001b[1;32mc:\\Users\\bcamaster\\AppData\\Local\\Programs\\Python\\Python310\\lib\\site-packages\\langchain\\chains\\base.py:153\u001b[0m, in \u001b[0;36mChain.invoke\u001b[1;34m(self, input, config, **kwargs)\u001b[0m\n\u001b[0;32m    150\u001b[0m \u001b[39mtry\u001b[39;00m:\n\u001b[0;32m    151\u001b[0m     \u001b[39mself\u001b[39m\u001b[39m.\u001b[39m_validate_inputs(inputs)\n\u001b[0;32m    152\u001b[0m     outputs \u001b[39m=\u001b[39m (\n\u001b[1;32m--> 153\u001b[0m         \u001b[39mself\u001b[39;49m\u001b[39m.\u001b[39;49m_call(inputs, run_manager\u001b[39m=\u001b[39;49mrun_manager)\n\u001b[0;32m    154\u001b[0m         \u001b[39mif\u001b[39;00m new_arg_supported\n\u001b[0;32m    155\u001b[0m         \u001b[39melse\u001b[39;00m \u001b[39mself\u001b[39m\u001b[39m.\u001b[39m_call(inputs)\n\u001b[0;32m    156\u001b[0m     )\n\u001b[0;32m    158\u001b[0m     final_outputs: Dict[\u001b[39mstr\u001b[39m, Any] \u001b[39m=\u001b[39m \u001b[39mself\u001b[39m\u001b[39m.\u001b[39mprep_outputs(\n\u001b[0;32m    159\u001b[0m         inputs, outputs, return_only_outputs\n\u001b[0;32m    160\u001b[0m     )\n\u001b[0;32m    161\u001b[0m \u001b[39mexcept\u001b[39;00m \u001b[39mBaseException\u001b[39;00m \u001b[39mas\u001b[39;00m e:\n",
      "File \u001b[1;32mc:\\Users\\bcamaster\\AppData\\Local\\Programs\\Python\\Python310\\lib\\site-packages\\langchain\\chains\\conversational_retrieval\\base.py:166\u001b[0m, in \u001b[0;36mBaseConversationalRetrievalChain._call\u001b[1;34m(self, inputs, run_manager)\u001b[0m\n\u001b[0;32m    164\u001b[0m         new_inputs[\u001b[39m\"\u001b[39m\u001b[39mquestion\u001b[39m\u001b[39m\"\u001b[39m] \u001b[39m=\u001b[39m new_question\n\u001b[0;32m    165\u001b[0m     new_inputs[\u001b[39m\"\u001b[39m\u001b[39mchat_history\u001b[39m\u001b[39m\"\u001b[39m] \u001b[39m=\u001b[39m chat_history_str\n\u001b[1;32m--> 166\u001b[0m     answer \u001b[39m=\u001b[39m \u001b[39mself\u001b[39m\u001b[39m.\u001b[39mcombine_docs_chain\u001b[39m.\u001b[39mrun(\n\u001b[0;32m    167\u001b[0m         input_documents\u001b[39m=\u001b[39mdocs, callbacks\u001b[39m=\u001b[39m_run_manager\u001b[39m.\u001b[39mget_child(), \u001b[39m*\u001b[39m\u001b[39m*\u001b[39mnew_inputs\n\u001b[0;32m    168\u001b[0m     )\n\u001b[0;32m    169\u001b[0m     output[\u001b[39mself\u001b[39m\u001b[39m.\u001b[39moutput_key] \u001b[39m=\u001b[39m answer\n\u001b[0;32m    171\u001b[0m \u001b[39mif\u001b[39;00m \u001b[39mself\u001b[39m\u001b[39m.\u001b[39mreturn_source_documents:\n",
      "File \u001b[1;32mc:\\Users\\bcamaster\\AppData\\Local\\Programs\\Python\\Python310\\lib\\site-packages\\langchain_core\\_api\\deprecation.py:145\u001b[0m, in \u001b[0;36mdeprecated.<locals>.deprecate.<locals>.warning_emitting_wrapper\u001b[1;34m(*args, **kwargs)\u001b[0m\n\u001b[0;32m    143\u001b[0m     warned \u001b[39m=\u001b[39m \u001b[39mTrue\u001b[39;00m\n\u001b[0;32m    144\u001b[0m     emit_warning()\n\u001b[1;32m--> 145\u001b[0m \u001b[39mreturn\u001b[39;00m wrapped(\u001b[39m*\u001b[39margs, \u001b[39m*\u001b[39m\u001b[39m*\u001b[39mkwargs)\n",
      "File \u001b[1;32mc:\\Users\\bcamaster\\AppData\\Local\\Programs\\Python\\Python310\\lib\\site-packages\\langchain\\chains\\base.py:550\u001b[0m, in \u001b[0;36mChain.run\u001b[1;34m(self, callbacks, tags, metadata, *args, **kwargs)\u001b[0m\n\u001b[0;32m    545\u001b[0m     \u001b[39mreturn\u001b[39;00m \u001b[39mself\u001b[39m(args[\u001b[39m0\u001b[39m], callbacks\u001b[39m=\u001b[39mcallbacks, tags\u001b[39m=\u001b[39mtags, metadata\u001b[39m=\u001b[39mmetadata)[\n\u001b[0;32m    546\u001b[0m         _output_key\n\u001b[0;32m    547\u001b[0m     ]\n\u001b[0;32m    549\u001b[0m \u001b[39mif\u001b[39;00m kwargs \u001b[39mand\u001b[39;00m \u001b[39mnot\u001b[39;00m args:\n\u001b[1;32m--> 550\u001b[0m     \u001b[39mreturn\u001b[39;00m \u001b[39mself\u001b[39;49m(kwargs, callbacks\u001b[39m=\u001b[39;49mcallbacks, tags\u001b[39m=\u001b[39;49mtags, metadata\u001b[39m=\u001b[39;49mmetadata)[\n\u001b[0;32m    551\u001b[0m         _output_key\n\u001b[0;32m    552\u001b[0m     ]\n\u001b[0;32m    554\u001b[0m \u001b[39mif\u001b[39;00m \u001b[39mnot\u001b[39;00m kwargs \u001b[39mand\u001b[39;00m \u001b[39mnot\u001b[39;00m args:\n\u001b[0;32m    555\u001b[0m     \u001b[39mraise\u001b[39;00m \u001b[39mValueError\u001b[39;00m(\n\u001b[0;32m    556\u001b[0m         \u001b[39m\"\u001b[39m\u001b[39m`run` supported with either positional arguments or keyword arguments,\u001b[39m\u001b[39m\"\u001b[39m\n\u001b[0;32m    557\u001b[0m         \u001b[39m\"\u001b[39m\u001b[39m but none were provided.\u001b[39m\u001b[39m\"\u001b[39m\n\u001b[0;32m    558\u001b[0m     )\n",
      "File \u001b[1;32mc:\\Users\\bcamaster\\AppData\\Local\\Programs\\Python\\Python310\\lib\\site-packages\\langchain_core\\_api\\deprecation.py:145\u001b[0m, in \u001b[0;36mdeprecated.<locals>.deprecate.<locals>.warning_emitting_wrapper\u001b[1;34m(*args, **kwargs)\u001b[0m\n\u001b[0;32m    143\u001b[0m     warned \u001b[39m=\u001b[39m \u001b[39mTrue\u001b[39;00m\n\u001b[0;32m    144\u001b[0m     emit_warning()\n\u001b[1;32m--> 145\u001b[0m \u001b[39mreturn\u001b[39;00m wrapped(\u001b[39m*\u001b[39margs, \u001b[39m*\u001b[39m\u001b[39m*\u001b[39mkwargs)\n",
      "File \u001b[1;32mc:\\Users\\bcamaster\\AppData\\Local\\Programs\\Python\\Python310\\lib\\site-packages\\langchain\\chains\\base.py:378\u001b[0m, in \u001b[0;36mChain.__call__\u001b[1;34m(self, inputs, return_only_outputs, callbacks, tags, metadata, run_name, include_run_info)\u001b[0m\n\u001b[0;32m    346\u001b[0m \u001b[39m\"\"\"Execute the chain.\u001b[39;00m\n\u001b[0;32m    347\u001b[0m \n\u001b[0;32m    348\u001b[0m \u001b[39mArgs:\u001b[39;00m\n\u001b[1;32m   (...)\u001b[0m\n\u001b[0;32m    369\u001b[0m \u001b[39m        `Chain.output_keys`.\u001b[39;00m\n\u001b[0;32m    370\u001b[0m \u001b[39m\"\"\"\u001b[39;00m\n\u001b[0;32m    371\u001b[0m config \u001b[39m=\u001b[39m {\n\u001b[0;32m    372\u001b[0m     \u001b[39m\"\u001b[39m\u001b[39mcallbacks\u001b[39m\u001b[39m\"\u001b[39m: callbacks,\n\u001b[0;32m    373\u001b[0m     \u001b[39m\"\u001b[39m\u001b[39mtags\u001b[39m\u001b[39m\"\u001b[39m: tags,\n\u001b[0;32m    374\u001b[0m     \u001b[39m\"\u001b[39m\u001b[39mmetadata\u001b[39m\u001b[39m\"\u001b[39m: metadata,\n\u001b[0;32m    375\u001b[0m     \u001b[39m\"\u001b[39m\u001b[39mrun_name\u001b[39m\u001b[39m\"\u001b[39m: run_name,\n\u001b[0;32m    376\u001b[0m }\n\u001b[1;32m--> 378\u001b[0m \u001b[39mreturn\u001b[39;00m \u001b[39mself\u001b[39;49m\u001b[39m.\u001b[39;49minvoke(\n\u001b[0;32m    379\u001b[0m     inputs,\n\u001b[0;32m    380\u001b[0m     cast(RunnableConfig, {k: v \u001b[39mfor\u001b[39;49;00m k, v \u001b[39min\u001b[39;49;00m config\u001b[39m.\u001b[39;49mitems() \u001b[39mif\u001b[39;49;00m v \u001b[39mis\u001b[39;49;00m \u001b[39mnot\u001b[39;49;00m \u001b[39mNone\u001b[39;49;00m}),\n\u001b[0;32m    381\u001b[0m     return_only_outputs\u001b[39m=\u001b[39;49mreturn_only_outputs,\n\u001b[0;32m    382\u001b[0m     include_run_info\u001b[39m=\u001b[39;49minclude_run_info,\n\u001b[0;32m    383\u001b[0m )\n",
      "File \u001b[1;32mc:\\Users\\bcamaster\\AppData\\Local\\Programs\\Python\\Python310\\lib\\site-packages\\langchain\\chains\\base.py:163\u001b[0m, in \u001b[0;36mChain.invoke\u001b[1;34m(self, input, config, **kwargs)\u001b[0m\n\u001b[0;32m    161\u001b[0m \u001b[39mexcept\u001b[39;00m \u001b[39mBaseException\u001b[39;00m \u001b[39mas\u001b[39;00m e:\n\u001b[0;32m    162\u001b[0m     run_manager\u001b[39m.\u001b[39mon_chain_error(e)\n\u001b[1;32m--> 163\u001b[0m     \u001b[39mraise\u001b[39;00m e\n\u001b[0;32m    164\u001b[0m run_manager\u001b[39m.\u001b[39mon_chain_end(outputs)\n\u001b[0;32m    166\u001b[0m \u001b[39mif\u001b[39;00m include_run_info:\n",
      "File \u001b[1;32mc:\\Users\\bcamaster\\AppData\\Local\\Programs\\Python\\Python310\\lib\\site-packages\\langchain\\chains\\base.py:153\u001b[0m, in \u001b[0;36mChain.invoke\u001b[1;34m(self, input, config, **kwargs)\u001b[0m\n\u001b[0;32m    150\u001b[0m \u001b[39mtry\u001b[39;00m:\n\u001b[0;32m    151\u001b[0m     \u001b[39mself\u001b[39m\u001b[39m.\u001b[39m_validate_inputs(inputs)\n\u001b[0;32m    152\u001b[0m     outputs \u001b[39m=\u001b[39m (\n\u001b[1;32m--> 153\u001b[0m         \u001b[39mself\u001b[39;49m\u001b[39m.\u001b[39;49m_call(inputs, run_manager\u001b[39m=\u001b[39;49mrun_manager)\n\u001b[0;32m    154\u001b[0m         \u001b[39mif\u001b[39;00m new_arg_supported\n\u001b[0;32m    155\u001b[0m         \u001b[39melse\u001b[39;00m \u001b[39mself\u001b[39m\u001b[39m.\u001b[39m_call(inputs)\n\u001b[0;32m    156\u001b[0m     )\n\u001b[0;32m    158\u001b[0m     final_outputs: Dict[\u001b[39mstr\u001b[39m, Any] \u001b[39m=\u001b[39m \u001b[39mself\u001b[39m\u001b[39m.\u001b[39mprep_outputs(\n\u001b[0;32m    159\u001b[0m         inputs, outputs, return_only_outputs\n\u001b[0;32m    160\u001b[0m     )\n\u001b[0;32m    161\u001b[0m \u001b[39mexcept\u001b[39;00m \u001b[39mBaseException\u001b[39;00m \u001b[39mas\u001b[39;00m e:\n",
      "File \u001b[1;32mc:\\Users\\bcamaster\\AppData\\Local\\Programs\\Python\\Python310\\lib\\site-packages\\langchain\\chains\\combine_documents\\base.py:137\u001b[0m, in \u001b[0;36mBaseCombineDocumentsChain._call\u001b[1;34m(self, inputs, run_manager)\u001b[0m\n\u001b[0;32m    135\u001b[0m \u001b[39m# Other keys are assumed to be needed for LLM prediction\u001b[39;00m\n\u001b[0;32m    136\u001b[0m other_keys \u001b[39m=\u001b[39m {k: v \u001b[39mfor\u001b[39;00m k, v \u001b[39min\u001b[39;00m inputs\u001b[39m.\u001b[39mitems() \u001b[39mif\u001b[39;00m k \u001b[39m!=\u001b[39m \u001b[39mself\u001b[39m\u001b[39m.\u001b[39minput_key}\n\u001b[1;32m--> 137\u001b[0m output, extra_return_dict \u001b[39m=\u001b[39m \u001b[39mself\u001b[39m\u001b[39m.\u001b[39mcombine_docs(\n\u001b[0;32m    138\u001b[0m     docs, callbacks\u001b[39m=\u001b[39m_run_manager\u001b[39m.\u001b[39mget_child(), \u001b[39m*\u001b[39m\u001b[39m*\u001b[39mother_keys\n\u001b[0;32m    139\u001b[0m )\n\u001b[0;32m    140\u001b[0m extra_return_dict[\u001b[39mself\u001b[39m\u001b[39m.\u001b[39moutput_key] \u001b[39m=\u001b[39m output\n\u001b[0;32m    141\u001b[0m \u001b[39mreturn\u001b[39;00m extra_return_dict\n",
      "File \u001b[1;32mc:\\Users\\bcamaster\\AppData\\Local\\Programs\\Python\\Python310\\lib\\site-packages\\langchain\\chains\\combine_documents\\stuff.py:244\u001b[0m, in \u001b[0;36mStuffDocumentsChain.combine_docs\u001b[1;34m(self, docs, callbacks, **kwargs)\u001b[0m\n\u001b[0;32m    242\u001b[0m inputs \u001b[39m=\u001b[39m \u001b[39mself\u001b[39m\u001b[39m.\u001b[39m_get_inputs(docs, \u001b[39m*\u001b[39m\u001b[39m*\u001b[39mkwargs)\n\u001b[0;32m    243\u001b[0m \u001b[39m# Call predict on the LLM.\u001b[39;00m\n\u001b[1;32m--> 244\u001b[0m \u001b[39mreturn\u001b[39;00m \u001b[39mself\u001b[39m\u001b[39m.\u001b[39mllm_chain\u001b[39m.\u001b[39mpredict(callbacks\u001b[39m=\u001b[39mcallbacks, \u001b[39m*\u001b[39m\u001b[39m*\u001b[39minputs), {}\n",
      "File \u001b[1;32mc:\\Users\\bcamaster\\AppData\\Local\\Programs\\Python\\Python310\\lib\\site-packages\\langchain\\chains\\llm.py:293\u001b[0m, in \u001b[0;36mLLMChain.predict\u001b[1;34m(self, callbacks, **kwargs)\u001b[0m\n\u001b[0;32m    278\u001b[0m \u001b[39mdef\u001b[39;00m \u001b[39mpredict\u001b[39m(\u001b[39mself\u001b[39m, callbacks: Callbacks \u001b[39m=\u001b[39m \u001b[39mNone\u001b[39;00m, \u001b[39m*\u001b[39m\u001b[39m*\u001b[39mkwargs: Any) \u001b[39m-\u001b[39m\u001b[39m>\u001b[39m \u001b[39mstr\u001b[39m:\n\u001b[0;32m    279\u001b[0m     \u001b[39m\"\"\"Format prompt with kwargs and pass to LLM.\u001b[39;00m\n\u001b[0;32m    280\u001b[0m \n\u001b[0;32m    281\u001b[0m \u001b[39m    Args:\u001b[39;00m\n\u001b[1;32m   (...)\u001b[0m\n\u001b[0;32m    291\u001b[0m \u001b[39m            completion = llm.predict(adjective=\"funny\")\u001b[39;00m\n\u001b[0;32m    292\u001b[0m \u001b[39m    \"\"\"\u001b[39;00m\n\u001b[1;32m--> 293\u001b[0m     \u001b[39mreturn\u001b[39;00m \u001b[39mself\u001b[39;49m(kwargs, callbacks\u001b[39m=\u001b[39;49mcallbacks)[\u001b[39mself\u001b[39m\u001b[39m.\u001b[39moutput_key]\n",
      "File \u001b[1;32mc:\\Users\\bcamaster\\AppData\\Local\\Programs\\Python\\Python310\\lib\\site-packages\\langchain_core\\_api\\deprecation.py:145\u001b[0m, in \u001b[0;36mdeprecated.<locals>.deprecate.<locals>.warning_emitting_wrapper\u001b[1;34m(*args, **kwargs)\u001b[0m\n\u001b[0;32m    143\u001b[0m     warned \u001b[39m=\u001b[39m \u001b[39mTrue\u001b[39;00m\n\u001b[0;32m    144\u001b[0m     emit_warning()\n\u001b[1;32m--> 145\u001b[0m \u001b[39mreturn\u001b[39;00m wrapped(\u001b[39m*\u001b[39margs, \u001b[39m*\u001b[39m\u001b[39m*\u001b[39mkwargs)\n",
      "File \u001b[1;32mc:\\Users\\bcamaster\\AppData\\Local\\Programs\\Python\\Python310\\lib\\site-packages\\langchain\\chains\\base.py:378\u001b[0m, in \u001b[0;36mChain.__call__\u001b[1;34m(self, inputs, return_only_outputs, callbacks, tags, metadata, run_name, include_run_info)\u001b[0m\n\u001b[0;32m    346\u001b[0m \u001b[39m\"\"\"Execute the chain.\u001b[39;00m\n\u001b[0;32m    347\u001b[0m \n\u001b[0;32m    348\u001b[0m \u001b[39mArgs:\u001b[39;00m\n\u001b[1;32m   (...)\u001b[0m\n\u001b[0;32m    369\u001b[0m \u001b[39m        `Chain.output_keys`.\u001b[39;00m\n\u001b[0;32m    370\u001b[0m \u001b[39m\"\"\"\u001b[39;00m\n\u001b[0;32m    371\u001b[0m config \u001b[39m=\u001b[39m {\n\u001b[0;32m    372\u001b[0m     \u001b[39m\"\u001b[39m\u001b[39mcallbacks\u001b[39m\u001b[39m\"\u001b[39m: callbacks,\n\u001b[0;32m    373\u001b[0m     \u001b[39m\"\u001b[39m\u001b[39mtags\u001b[39m\u001b[39m\"\u001b[39m: tags,\n\u001b[0;32m    374\u001b[0m     \u001b[39m\"\u001b[39m\u001b[39mmetadata\u001b[39m\u001b[39m\"\u001b[39m: metadata,\n\u001b[0;32m    375\u001b[0m     \u001b[39m\"\u001b[39m\u001b[39mrun_name\u001b[39m\u001b[39m\"\u001b[39m: run_name,\n\u001b[0;32m    376\u001b[0m }\n\u001b[1;32m--> 378\u001b[0m \u001b[39mreturn\u001b[39;00m \u001b[39mself\u001b[39;49m\u001b[39m.\u001b[39;49minvoke(\n\u001b[0;32m    379\u001b[0m     inputs,\n\u001b[0;32m    380\u001b[0m     cast(RunnableConfig, {k: v \u001b[39mfor\u001b[39;49;00m k, v \u001b[39min\u001b[39;49;00m config\u001b[39m.\u001b[39;49mitems() \u001b[39mif\u001b[39;49;00m v \u001b[39mis\u001b[39;49;00m \u001b[39mnot\u001b[39;49;00m \u001b[39mNone\u001b[39;49;00m}),\n\u001b[0;32m    381\u001b[0m     return_only_outputs\u001b[39m=\u001b[39;49mreturn_only_outputs,\n\u001b[0;32m    382\u001b[0m     include_run_info\u001b[39m=\u001b[39;49minclude_run_info,\n\u001b[0;32m    383\u001b[0m )\n",
      "File \u001b[1;32mc:\\Users\\bcamaster\\AppData\\Local\\Programs\\Python\\Python310\\lib\\site-packages\\langchain\\chains\\base.py:163\u001b[0m, in \u001b[0;36mChain.invoke\u001b[1;34m(self, input, config, **kwargs)\u001b[0m\n\u001b[0;32m    161\u001b[0m \u001b[39mexcept\u001b[39;00m \u001b[39mBaseException\u001b[39;00m \u001b[39mas\u001b[39;00m e:\n\u001b[0;32m    162\u001b[0m     run_manager\u001b[39m.\u001b[39mon_chain_error(e)\n\u001b[1;32m--> 163\u001b[0m     \u001b[39mraise\u001b[39;00m e\n\u001b[0;32m    164\u001b[0m run_manager\u001b[39m.\u001b[39mon_chain_end(outputs)\n\u001b[0;32m    166\u001b[0m \u001b[39mif\u001b[39;00m include_run_info:\n",
      "File \u001b[1;32mc:\\Users\\bcamaster\\AppData\\Local\\Programs\\Python\\Python310\\lib\\site-packages\\langchain\\chains\\base.py:153\u001b[0m, in \u001b[0;36mChain.invoke\u001b[1;34m(self, input, config, **kwargs)\u001b[0m\n\u001b[0;32m    150\u001b[0m \u001b[39mtry\u001b[39;00m:\n\u001b[0;32m    151\u001b[0m     \u001b[39mself\u001b[39m\u001b[39m.\u001b[39m_validate_inputs(inputs)\n\u001b[0;32m    152\u001b[0m     outputs \u001b[39m=\u001b[39m (\n\u001b[1;32m--> 153\u001b[0m         \u001b[39mself\u001b[39;49m\u001b[39m.\u001b[39;49m_call(inputs, run_manager\u001b[39m=\u001b[39;49mrun_manager)\n\u001b[0;32m    154\u001b[0m         \u001b[39mif\u001b[39;00m new_arg_supported\n\u001b[0;32m    155\u001b[0m         \u001b[39melse\u001b[39;00m \u001b[39mself\u001b[39m\u001b[39m.\u001b[39m_call(inputs)\n\u001b[0;32m    156\u001b[0m     )\n\u001b[0;32m    158\u001b[0m     final_outputs: Dict[\u001b[39mstr\u001b[39m, Any] \u001b[39m=\u001b[39m \u001b[39mself\u001b[39m\u001b[39m.\u001b[39mprep_outputs(\n\u001b[0;32m    159\u001b[0m         inputs, outputs, return_only_outputs\n\u001b[0;32m    160\u001b[0m     )\n\u001b[0;32m    161\u001b[0m \u001b[39mexcept\u001b[39;00m \u001b[39mBaseException\u001b[39;00m \u001b[39mas\u001b[39;00m e:\n",
      "File \u001b[1;32mc:\\Users\\bcamaster\\AppData\\Local\\Programs\\Python\\Python310\\lib\\site-packages\\langchain\\chains\\llm.py:103\u001b[0m, in \u001b[0;36mLLMChain._call\u001b[1;34m(self, inputs, run_manager)\u001b[0m\n\u001b[0;32m     98\u001b[0m \u001b[39mdef\u001b[39;00m \u001b[39m_call\u001b[39m(\n\u001b[0;32m     99\u001b[0m     \u001b[39mself\u001b[39m,\n\u001b[0;32m    100\u001b[0m     inputs: Dict[\u001b[39mstr\u001b[39m, Any],\n\u001b[0;32m    101\u001b[0m     run_manager: Optional[CallbackManagerForChainRun] \u001b[39m=\u001b[39m \u001b[39mNone\u001b[39;00m,\n\u001b[0;32m    102\u001b[0m ) \u001b[39m-\u001b[39m\u001b[39m>\u001b[39m Dict[\u001b[39mstr\u001b[39m, \u001b[39mstr\u001b[39m]:\n\u001b[1;32m--> 103\u001b[0m     response \u001b[39m=\u001b[39m \u001b[39mself\u001b[39;49m\u001b[39m.\u001b[39;49mgenerate([inputs], run_manager\u001b[39m=\u001b[39;49mrun_manager)\n\u001b[0;32m    104\u001b[0m     \u001b[39mreturn\u001b[39;00m \u001b[39mself\u001b[39m\u001b[39m.\u001b[39mcreate_outputs(response)[\u001b[39m0\u001b[39m]\n",
      "File \u001b[1;32mc:\\Users\\bcamaster\\AppData\\Local\\Programs\\Python\\Python310\\lib\\site-packages\\langchain\\chains\\llm.py:130\u001b[0m, in \u001b[0;36mLLMChain.generate\u001b[1;34m(self, input_list, run_manager)\u001b[0m\n\u001b[0;32m    128\u001b[0m         generations\u001b[39m.\u001b[39mappend([ChatGeneration(message\u001b[39m=\u001b[39mres)])\n\u001b[0;32m    129\u001b[0m     \u001b[39melse\u001b[39;00m:\n\u001b[1;32m--> 130\u001b[0m         generations\u001b[39m.\u001b[39mappend([Generation(text\u001b[39m=\u001b[39;49mres)])\n\u001b[0;32m    131\u001b[0m \u001b[39mreturn\u001b[39;00m LLMResult(generations\u001b[39m=\u001b[39mgenerations)\n",
      "File \u001b[1;32mc:\\Users\\bcamaster\\AppData\\Local\\Programs\\Python\\Python310\\lib\\site-packages\\langchain_core\\load\\serializable.py:120\u001b[0m, in \u001b[0;36mSerializable.__init__\u001b[1;34m(self, **kwargs)\u001b[0m\n\u001b[0;32m    119\u001b[0m \u001b[39mdef\u001b[39;00m \u001b[39m__init__\u001b[39m(\u001b[39mself\u001b[39m, \u001b[39m*\u001b[39m\u001b[39m*\u001b[39mkwargs: Any) \u001b[39m-\u001b[39m\u001b[39m>\u001b[39m \u001b[39mNone\u001b[39;00m:\n\u001b[1;32m--> 120\u001b[0m     \u001b[39msuper\u001b[39m()\u001b[39m.\u001b[39m\u001b[39m__init__\u001b[39m(\u001b[39m*\u001b[39m\u001b[39m*\u001b[39mkwargs)\n\u001b[0;32m    121\u001b[0m     \u001b[39mself\u001b[39m\u001b[39m.\u001b[39m_lc_kwargs \u001b[39m=\u001b[39m kwargs\n",
      "File \u001b[1;32mc:\\Users\\bcamaster\\AppData\\Local\\Programs\\Python\\Python310\\lib\\site-packages\\pydantic\\v1\\main.py:341\u001b[0m, in \u001b[0;36mBaseModel.__init__\u001b[1;34m(__pydantic_self__, **data)\u001b[0m\n\u001b[0;32m    339\u001b[0m values, fields_set, validation_error \u001b[39m=\u001b[39m validate_model(__pydantic_self__\u001b[39m.\u001b[39m\u001b[39m__class__\u001b[39m, data)\n\u001b[0;32m    340\u001b[0m \u001b[39mif\u001b[39;00m validation_error:\n\u001b[1;32m--> 341\u001b[0m     \u001b[39mraise\u001b[39;00m validation_error\n\u001b[0;32m    342\u001b[0m \u001b[39mtry\u001b[39;00m:\n\u001b[0;32m    343\u001b[0m     object_setattr(__pydantic_self__, \u001b[39m'\u001b[39m\u001b[39m__dict__\u001b[39m\u001b[39m'\u001b[39m, values)\n",
      "\u001b[1;31mValidationError\u001b[0m: 1 validation error for Generation\ntext\n  str type expected (type=type_error.str)"
     ]
    }
   ],
   "source": [
    "question = \"what is commonwealth?\"\n",
    "result = bot.invoke({\"question\": question})"
   ]
  },
  {
   "cell_type": "code",
   "execution_count": 78,
   "metadata": {},
   "outputs": [
    {
     "name": "stderr",
     "output_type": "stream",
     "text": [
      "c:\\Users\\bcamaster\\AppData\\Local\\Programs\\Python\\Python310\\lib\\site-packages\\langchain_core\\_api\\deprecation.py:117: LangChainDeprecationWarning: The function `__call__` was deprecated in LangChain 0.1.0 and will be removed in 0.2.0. Use invoke instead.\n",
      "  warn_deprecated(\n"
     ]
    },
    {
     "name": "stdout",
     "output_type": "stream",
     "text": [
      "\n",
      "\n",
      "\u001b[1m> Entering new StuffDocumentsChain chain...\u001b[0m\n",
      "\n",
      "\n",
      "\u001b[1m> Entering new LLMChain chain...\u001b[0m\n",
      "Prompt after formatting:\n",
      "\u001b[32;1m\u001b[1;3mUse the following pieces of context to answer the question at the end. If you don't know the answer, just say that you don't know, don't try to make up an answer.\n",
      "\n",
      "All rights reserved. Used with permission. Commonwealth Bank of Australia.\n",
      "\n",
      "Used with permission. Boardmaker™ is a trademark of Tobii Dynavox. Commonwealth Bank of Australia.\n",
      "\n",
      "Used with permission. Boardmaker™ is a trademark of Tobii Dynavox. Commonwealth Bank of Australia.\n",
      "\n",
      "If any of the trustees change, you need\n",
      "to let us know straight away. The trustees\n",
      "are solely responsible for all transactions\n",
      "on the account and ensuring that the\n",
      "SMSF complies with relevant laws. Commonwealth Direct\n",
      "            Investment Accounts. If your account is linked to a CommSec\n",
      "trading account, you authorise us to debit\n",
      "your account for costs relating to your\n",
      "dealings in securities through CommSec,\n",
      "including brokerage and other fees. Unless you tell us otherwise, each owner\n",
      "or signatory may operate the account\n",
      "independently of each other.\n",
      "\n",
      "Discover more\n",
      "Things you should know\n",
      "\n",
      "\n",
      "This information has been prepared by Commonwealth Private Limited ABN 30 125 238 039 AFSL 314018, a wholly owned but non-guaranteed subsidiary of Commonwealth Bank of Australia ABN 48 123 123 124 AFSL and Australian credit licence 234945. Commonwealth Private’s services are provided by a team consisting of Private Bankers who are representatives of Commonwealth Bank and Private Wealth Managers who are representatives of Commonwealth Private Limited. Commonwealth Private Limited Financial Services Guide. Premier Banking is available for selected clients only and is a specialist service within the Retail Banking Services division of the Commonwealth Bank of Australia ABN 48 123 123 124 AFSL and Australian credit licence 234945 (the ‘Bank’) and its services are provided by Premier Banking Relationship Managers who are representatives of the Bank. Applications for finance are subject to credit approval.\n",
      "\n",
      "ABN 48 123 123 124. All\n",
      "rights reserved, except as permitted under the Australian Copyright Act\n",
      "1968. Text, images and information incorporated in this Easy English\n",
      "publication created by Scope (Aust) Ltd at scopeaust.org.au and\n",
      "Tobii Dynavox. Commonwealth Bank of Australia has undertaken reasonable enquiries\n",
      "to identify where material or content is owned by third parties and\n",
      "to secure permission for its use and reproduction. Permission may\n",
      "need to be obtained from third parties to use, reproduce or modify this\n",
      "material. Picture Communication Symbols (PCS) is a trademark of Tobii\n",
      "Dynavox, LLC.\n",
      "\n",
      "All rights reserved, except as\n",
      "permitted under the Australian Copyright Act 1968. Text, images and\n",
      "information incorporated in this Easy English publication created by\n",
      "Scope (Aust) Ltd at scopeaust.org.au and Tobii Dynavox. Commonwealth Bank of Australia has undertaken reasonable enquiries\n",
      "to identify where material or content is owned by third parties and\n",
      "to secure permission for its use and reproduction. Permission may\n",
      "need to be obtained from third parties to use, reproduce or modify\n",
      "this material. The Picture Communication Symbols ©1981–2020 by\n",
      "Tobii Dynavox.\n",
      "\n",
      "All rights reserved, except as\n",
      "permitted under the Australian Copyright Act 1968. Text, images and\n",
      "information incorporated in this Easy English publication created by\n",
      "Scope (Aust) Ltd at scopeaust.org.au and Tobii Dynavox. Commonwealth Bank of Australia has undertaken reasonable enquiries\n",
      "to identify where material or content is owned by third parties and\n",
      "to secure permission for its use and reproduction. Permission may\n",
      "need to be obtained from third parties to use, reproduce or modify\n",
      "this material. The Picture Communication Symbols ©1981–2020 by\n",
      "Tobii Dynavox.\n",
      "\n",
      "A dedicated Relationship Manager will work with you to help protect and grow your wealth. Helping you identify investment opportunities including meeting all your home lending needs plus introducing you to experts who can help expand your portfolio\n",
      "Assisting you with day-to-day financial management\n",
      "Sharing latest market insights and research\n",
      "\n",
      "\n",
      "Discover more\n",
      "\n",
      "\n",
      "Private Banking\n",
      "At Commonwealth Private we understand that the measures of success are different for every individual. As a client of Commonwealth Private you can look forward to outstanding service, advice and opportunities tailored to your goals and needs. If you have an annual household income in excess of $450,000 and the intent to invest or borrow $2.5 million or more, contact us to have a confidential discussion about your needs. Success is personal.\n",
      "\n",
      "Commonwealth Private Bank Account Commonwealth Private\n",
      "Bank Account\n",
      "\n",
      "\n",
      "\n",
      "\n",
      "\n",
      "\n",
      "\n",
      "\n",
      "\n",
      "\n",
      "\n",
      "\n",
      "\n",
      "\n",
      "\n",
      "\n",
      "\n",
      "\n",
      "\n",
      "\n",
      "\n",
      "\n",
      "\n",
      "15 February 2024\n",
      "Contents\n",
      "\n",
      "Features at a glance                           1\n",
      "Why choose a Commonwealth\n",
      "Private Bank Account? 2\n",
      "Interest rates, fees and tax                  3\n",
      "Digital banking                                  4\n",
      "Privacy Collection Notice-\n",
      "Commonwealth Private Bank Account    5\n",
      "Changes to account features\n",
      "– keeping you informed                       7\n",
      "Terms and Conditions                         8\n",
      "Standard fees and charges                  24\n",
      "\n",
      "\n",
      "Important Information\n",
      "As the information in this document has been prepared without considering\n",
      "your objectives, financial situation or needs, you should, before acting on\n",
      "the information, consider its appropriateness to your circumstances.\n",
      "\n",
      "Question: what is commonwealth?\n",
      "Helpful Answer:\u001b[0m\n"
     ]
    },
    {
     "ename": "ValidationError",
     "evalue": "1 validation error for Generation\ntext\n  str type expected (type=type_error.str)",
     "output_type": "error",
     "traceback": [
      "\u001b[1;31m---------------------------------------------------------------------------\u001b[0m",
      "\u001b[1;31mValidationError\u001b[0m                           Traceback (most recent call last)",
      "\u001b[1;32mc:\\Users\\bcamaster\\OneDrive - Bina Nusantara\\Machine Learning Roadmap\\VectaraHackaton\\App\\new.ipynb Cell 15\u001b[0m in \u001b[0;36m<cell line: 6>\u001b[1;34m()\u001b[0m\n\u001b[0;32m      <a href='vscode-notebook-cell:/c%3A/Users/bcamaster/OneDrive%20-%20Bina%20Nusantara/Machine%20Learning%20Roadmap/VectaraHackaton/App/new.ipynb#X23sZmlsZQ%3D%3D?line=1'>2</a>\u001b[0m question \u001b[39m=\u001b[39m \u001b[39m\"\u001b[39m\u001b[39mwhat is commonwealth?\u001b[39m\u001b[39m\"\u001b[39m\n\u001b[0;32m      <a href='vscode-notebook-cell:/c%3A/Users/bcamaster/OneDrive%20-%20Bina%20Nusantara/Machine%20Learning%20Roadmap/VectaraHackaton/App/new.ipynb#X23sZmlsZQ%3D%3D?line=2'>3</a>\u001b[0m \u001b[39m# result = bot.invoke({\"question\": question, \"chat_history\": chat_history})\u001b[39;00m\n\u001b[0;32m      <a href='vscode-notebook-cell:/c%3A/Users/bcamaster/OneDrive%20-%20Bina%20Nusantara/Machine%20Learning%20Roadmap/VectaraHackaton/App/new.ipynb#X23sZmlsZQ%3D%3D?line=3'>4</a>\u001b[0m \u001b[39m# result = bot.invoke(\"what is commonwealth?\") # gk bisa karena perlu input keys\u001b[39;00m\n\u001b[0;32m      <a href='vscode-notebook-cell:/c%3A/Users/bcamaster/OneDrive%20-%20Bina%20Nusantara/Machine%20Learning%20Roadmap/VectaraHackaton/App/new.ipynb#X23sZmlsZQ%3D%3D?line=4'>5</a>\u001b[0m \u001b[39m# result = bot.invoke({\"question\": question}) #Missing some input keys: {'chat_history'}\u001b[39;00m\n\u001b[1;32m----> <a href='vscode-notebook-cell:/c%3A/Users/bcamaster/OneDrive%20-%20Bina%20Nusantara/Machine%20Learning%20Roadmap/VectaraHackaton/App/new.ipynb#X23sZmlsZQ%3D%3D?line=5'>6</a>\u001b[0m result \u001b[39m=\u001b[39m bot({\u001b[39m\"\u001b[39;49m\u001b[39mquestion\u001b[39;49m\u001b[39m\"\u001b[39;49m: question, \u001b[39m\"\u001b[39;49m\u001b[39mchat_history\u001b[39;49m\u001b[39m\"\u001b[39;49m: chat_history})\n",
      "File \u001b[1;32mc:\\Users\\bcamaster\\AppData\\Local\\Programs\\Python\\Python310\\lib\\site-packages\\langchain_core\\_api\\deprecation.py:145\u001b[0m, in \u001b[0;36mdeprecated.<locals>.deprecate.<locals>.warning_emitting_wrapper\u001b[1;34m(*args, **kwargs)\u001b[0m\n\u001b[0;32m    143\u001b[0m     warned \u001b[39m=\u001b[39m \u001b[39mTrue\u001b[39;00m\n\u001b[0;32m    144\u001b[0m     emit_warning()\n\u001b[1;32m--> 145\u001b[0m \u001b[39mreturn\u001b[39;00m wrapped(\u001b[39m*\u001b[39margs, \u001b[39m*\u001b[39m\u001b[39m*\u001b[39mkwargs)\n",
      "File \u001b[1;32mc:\\Users\\bcamaster\\AppData\\Local\\Programs\\Python\\Python310\\lib\\site-packages\\langchain\\chains\\base.py:378\u001b[0m, in \u001b[0;36mChain.__call__\u001b[1;34m(self, inputs, return_only_outputs, callbacks, tags, metadata, run_name, include_run_info)\u001b[0m\n\u001b[0;32m    346\u001b[0m \u001b[39m\"\"\"Execute the chain.\u001b[39;00m\n\u001b[0;32m    347\u001b[0m \n\u001b[0;32m    348\u001b[0m \u001b[39mArgs:\u001b[39;00m\n\u001b[1;32m   (...)\u001b[0m\n\u001b[0;32m    369\u001b[0m \u001b[39m        `Chain.output_keys`.\u001b[39;00m\n\u001b[0;32m    370\u001b[0m \u001b[39m\"\"\"\u001b[39;00m\n\u001b[0;32m    371\u001b[0m config \u001b[39m=\u001b[39m {\n\u001b[0;32m    372\u001b[0m     \u001b[39m\"\u001b[39m\u001b[39mcallbacks\u001b[39m\u001b[39m\"\u001b[39m: callbacks,\n\u001b[0;32m    373\u001b[0m     \u001b[39m\"\u001b[39m\u001b[39mtags\u001b[39m\u001b[39m\"\u001b[39m: tags,\n\u001b[0;32m    374\u001b[0m     \u001b[39m\"\u001b[39m\u001b[39mmetadata\u001b[39m\u001b[39m\"\u001b[39m: metadata,\n\u001b[0;32m    375\u001b[0m     \u001b[39m\"\u001b[39m\u001b[39mrun_name\u001b[39m\u001b[39m\"\u001b[39m: run_name,\n\u001b[0;32m    376\u001b[0m }\n\u001b[1;32m--> 378\u001b[0m \u001b[39mreturn\u001b[39;00m \u001b[39mself\u001b[39;49m\u001b[39m.\u001b[39;49minvoke(\n\u001b[0;32m    379\u001b[0m     inputs,\n\u001b[0;32m    380\u001b[0m     cast(RunnableConfig, {k: v \u001b[39mfor\u001b[39;49;00m k, v \u001b[39min\u001b[39;49;00m config\u001b[39m.\u001b[39;49mitems() \u001b[39mif\u001b[39;49;00m v \u001b[39mis\u001b[39;49;00m \u001b[39mnot\u001b[39;49;00m \u001b[39mNone\u001b[39;49;00m}),\n\u001b[0;32m    381\u001b[0m     return_only_outputs\u001b[39m=\u001b[39;49mreturn_only_outputs,\n\u001b[0;32m    382\u001b[0m     include_run_info\u001b[39m=\u001b[39;49minclude_run_info,\n\u001b[0;32m    383\u001b[0m )\n",
      "File \u001b[1;32mc:\\Users\\bcamaster\\AppData\\Local\\Programs\\Python\\Python310\\lib\\site-packages\\langchain\\chains\\base.py:163\u001b[0m, in \u001b[0;36mChain.invoke\u001b[1;34m(self, input, config, **kwargs)\u001b[0m\n\u001b[0;32m    161\u001b[0m \u001b[39mexcept\u001b[39;00m \u001b[39mBaseException\u001b[39;00m \u001b[39mas\u001b[39;00m e:\n\u001b[0;32m    162\u001b[0m     run_manager\u001b[39m.\u001b[39mon_chain_error(e)\n\u001b[1;32m--> 163\u001b[0m     \u001b[39mraise\u001b[39;00m e\n\u001b[0;32m    164\u001b[0m run_manager\u001b[39m.\u001b[39mon_chain_end(outputs)\n\u001b[0;32m    166\u001b[0m \u001b[39mif\u001b[39;00m include_run_info:\n",
      "File \u001b[1;32mc:\\Users\\bcamaster\\AppData\\Local\\Programs\\Python\\Python310\\lib\\site-packages\\langchain\\chains\\base.py:153\u001b[0m, in \u001b[0;36mChain.invoke\u001b[1;34m(self, input, config, **kwargs)\u001b[0m\n\u001b[0;32m    150\u001b[0m \u001b[39mtry\u001b[39;00m:\n\u001b[0;32m    151\u001b[0m     \u001b[39mself\u001b[39m\u001b[39m.\u001b[39m_validate_inputs(inputs)\n\u001b[0;32m    152\u001b[0m     outputs \u001b[39m=\u001b[39m (\n\u001b[1;32m--> 153\u001b[0m         \u001b[39mself\u001b[39;49m\u001b[39m.\u001b[39;49m_call(inputs, run_manager\u001b[39m=\u001b[39;49mrun_manager)\n\u001b[0;32m    154\u001b[0m         \u001b[39mif\u001b[39;00m new_arg_supported\n\u001b[0;32m    155\u001b[0m         \u001b[39melse\u001b[39;00m \u001b[39mself\u001b[39m\u001b[39m.\u001b[39m_call(inputs)\n\u001b[0;32m    156\u001b[0m     )\n\u001b[0;32m    158\u001b[0m     final_outputs: Dict[\u001b[39mstr\u001b[39m, Any] \u001b[39m=\u001b[39m \u001b[39mself\u001b[39m\u001b[39m.\u001b[39mprep_outputs(\n\u001b[0;32m    159\u001b[0m         inputs, outputs, return_only_outputs\n\u001b[0;32m    160\u001b[0m     )\n\u001b[0;32m    161\u001b[0m \u001b[39mexcept\u001b[39;00m \u001b[39mBaseException\u001b[39;00m \u001b[39mas\u001b[39;00m e:\n",
      "File \u001b[1;32mc:\\Users\\bcamaster\\AppData\\Local\\Programs\\Python\\Python310\\lib\\site-packages\\langchain\\chains\\conversational_retrieval\\base.py:166\u001b[0m, in \u001b[0;36mBaseConversationalRetrievalChain._call\u001b[1;34m(self, inputs, run_manager)\u001b[0m\n\u001b[0;32m    164\u001b[0m         new_inputs[\u001b[39m\"\u001b[39m\u001b[39mquestion\u001b[39m\u001b[39m\"\u001b[39m] \u001b[39m=\u001b[39m new_question\n\u001b[0;32m    165\u001b[0m     new_inputs[\u001b[39m\"\u001b[39m\u001b[39mchat_history\u001b[39m\u001b[39m\"\u001b[39m] \u001b[39m=\u001b[39m chat_history_str\n\u001b[1;32m--> 166\u001b[0m     answer \u001b[39m=\u001b[39m \u001b[39mself\u001b[39m\u001b[39m.\u001b[39mcombine_docs_chain\u001b[39m.\u001b[39mrun(\n\u001b[0;32m    167\u001b[0m         input_documents\u001b[39m=\u001b[39mdocs, callbacks\u001b[39m=\u001b[39m_run_manager\u001b[39m.\u001b[39mget_child(), \u001b[39m*\u001b[39m\u001b[39m*\u001b[39mnew_inputs\n\u001b[0;32m    168\u001b[0m     )\n\u001b[0;32m    169\u001b[0m     output[\u001b[39mself\u001b[39m\u001b[39m.\u001b[39moutput_key] \u001b[39m=\u001b[39m answer\n\u001b[0;32m    171\u001b[0m \u001b[39mif\u001b[39;00m \u001b[39mself\u001b[39m\u001b[39m.\u001b[39mreturn_source_documents:\n",
      "File \u001b[1;32mc:\\Users\\bcamaster\\AppData\\Local\\Programs\\Python\\Python310\\lib\\site-packages\\langchain_core\\_api\\deprecation.py:145\u001b[0m, in \u001b[0;36mdeprecated.<locals>.deprecate.<locals>.warning_emitting_wrapper\u001b[1;34m(*args, **kwargs)\u001b[0m\n\u001b[0;32m    143\u001b[0m     warned \u001b[39m=\u001b[39m \u001b[39mTrue\u001b[39;00m\n\u001b[0;32m    144\u001b[0m     emit_warning()\n\u001b[1;32m--> 145\u001b[0m \u001b[39mreturn\u001b[39;00m wrapped(\u001b[39m*\u001b[39margs, \u001b[39m*\u001b[39m\u001b[39m*\u001b[39mkwargs)\n",
      "File \u001b[1;32mc:\\Users\\bcamaster\\AppData\\Local\\Programs\\Python\\Python310\\lib\\site-packages\\langchain\\chains\\base.py:550\u001b[0m, in \u001b[0;36mChain.run\u001b[1;34m(self, callbacks, tags, metadata, *args, **kwargs)\u001b[0m\n\u001b[0;32m    545\u001b[0m     \u001b[39mreturn\u001b[39;00m \u001b[39mself\u001b[39m(args[\u001b[39m0\u001b[39m], callbacks\u001b[39m=\u001b[39mcallbacks, tags\u001b[39m=\u001b[39mtags, metadata\u001b[39m=\u001b[39mmetadata)[\n\u001b[0;32m    546\u001b[0m         _output_key\n\u001b[0;32m    547\u001b[0m     ]\n\u001b[0;32m    549\u001b[0m \u001b[39mif\u001b[39;00m kwargs \u001b[39mand\u001b[39;00m \u001b[39mnot\u001b[39;00m args:\n\u001b[1;32m--> 550\u001b[0m     \u001b[39mreturn\u001b[39;00m \u001b[39mself\u001b[39;49m(kwargs, callbacks\u001b[39m=\u001b[39;49mcallbacks, tags\u001b[39m=\u001b[39;49mtags, metadata\u001b[39m=\u001b[39;49mmetadata)[\n\u001b[0;32m    551\u001b[0m         _output_key\n\u001b[0;32m    552\u001b[0m     ]\n\u001b[0;32m    554\u001b[0m \u001b[39mif\u001b[39;00m \u001b[39mnot\u001b[39;00m kwargs \u001b[39mand\u001b[39;00m \u001b[39mnot\u001b[39;00m args:\n\u001b[0;32m    555\u001b[0m     \u001b[39mraise\u001b[39;00m \u001b[39mValueError\u001b[39;00m(\n\u001b[0;32m    556\u001b[0m         \u001b[39m\"\u001b[39m\u001b[39m`run` supported with either positional arguments or keyword arguments,\u001b[39m\u001b[39m\"\u001b[39m\n\u001b[0;32m    557\u001b[0m         \u001b[39m\"\u001b[39m\u001b[39m but none were provided.\u001b[39m\u001b[39m\"\u001b[39m\n\u001b[0;32m    558\u001b[0m     )\n",
      "File \u001b[1;32mc:\\Users\\bcamaster\\AppData\\Local\\Programs\\Python\\Python310\\lib\\site-packages\\langchain_core\\_api\\deprecation.py:145\u001b[0m, in \u001b[0;36mdeprecated.<locals>.deprecate.<locals>.warning_emitting_wrapper\u001b[1;34m(*args, **kwargs)\u001b[0m\n\u001b[0;32m    143\u001b[0m     warned \u001b[39m=\u001b[39m \u001b[39mTrue\u001b[39;00m\n\u001b[0;32m    144\u001b[0m     emit_warning()\n\u001b[1;32m--> 145\u001b[0m \u001b[39mreturn\u001b[39;00m wrapped(\u001b[39m*\u001b[39margs, \u001b[39m*\u001b[39m\u001b[39m*\u001b[39mkwargs)\n",
      "File \u001b[1;32mc:\\Users\\bcamaster\\AppData\\Local\\Programs\\Python\\Python310\\lib\\site-packages\\langchain\\chains\\base.py:378\u001b[0m, in \u001b[0;36mChain.__call__\u001b[1;34m(self, inputs, return_only_outputs, callbacks, tags, metadata, run_name, include_run_info)\u001b[0m\n\u001b[0;32m    346\u001b[0m \u001b[39m\"\"\"Execute the chain.\u001b[39;00m\n\u001b[0;32m    347\u001b[0m \n\u001b[0;32m    348\u001b[0m \u001b[39mArgs:\u001b[39;00m\n\u001b[1;32m   (...)\u001b[0m\n\u001b[0;32m    369\u001b[0m \u001b[39m        `Chain.output_keys`.\u001b[39;00m\n\u001b[0;32m    370\u001b[0m \u001b[39m\"\"\"\u001b[39;00m\n\u001b[0;32m    371\u001b[0m config \u001b[39m=\u001b[39m {\n\u001b[0;32m    372\u001b[0m     \u001b[39m\"\u001b[39m\u001b[39mcallbacks\u001b[39m\u001b[39m\"\u001b[39m: callbacks,\n\u001b[0;32m    373\u001b[0m     \u001b[39m\"\u001b[39m\u001b[39mtags\u001b[39m\u001b[39m\"\u001b[39m: tags,\n\u001b[0;32m    374\u001b[0m     \u001b[39m\"\u001b[39m\u001b[39mmetadata\u001b[39m\u001b[39m\"\u001b[39m: metadata,\n\u001b[0;32m    375\u001b[0m     \u001b[39m\"\u001b[39m\u001b[39mrun_name\u001b[39m\u001b[39m\"\u001b[39m: run_name,\n\u001b[0;32m    376\u001b[0m }\n\u001b[1;32m--> 378\u001b[0m \u001b[39mreturn\u001b[39;00m \u001b[39mself\u001b[39;49m\u001b[39m.\u001b[39;49minvoke(\n\u001b[0;32m    379\u001b[0m     inputs,\n\u001b[0;32m    380\u001b[0m     cast(RunnableConfig, {k: v \u001b[39mfor\u001b[39;49;00m k, v \u001b[39min\u001b[39;49;00m config\u001b[39m.\u001b[39;49mitems() \u001b[39mif\u001b[39;49;00m v \u001b[39mis\u001b[39;49;00m \u001b[39mnot\u001b[39;49;00m \u001b[39mNone\u001b[39;49;00m}),\n\u001b[0;32m    381\u001b[0m     return_only_outputs\u001b[39m=\u001b[39;49mreturn_only_outputs,\n\u001b[0;32m    382\u001b[0m     include_run_info\u001b[39m=\u001b[39;49minclude_run_info,\n\u001b[0;32m    383\u001b[0m )\n",
      "File \u001b[1;32mc:\\Users\\bcamaster\\AppData\\Local\\Programs\\Python\\Python310\\lib\\site-packages\\langchain\\chains\\base.py:163\u001b[0m, in \u001b[0;36mChain.invoke\u001b[1;34m(self, input, config, **kwargs)\u001b[0m\n\u001b[0;32m    161\u001b[0m \u001b[39mexcept\u001b[39;00m \u001b[39mBaseException\u001b[39;00m \u001b[39mas\u001b[39;00m e:\n\u001b[0;32m    162\u001b[0m     run_manager\u001b[39m.\u001b[39mon_chain_error(e)\n\u001b[1;32m--> 163\u001b[0m     \u001b[39mraise\u001b[39;00m e\n\u001b[0;32m    164\u001b[0m run_manager\u001b[39m.\u001b[39mon_chain_end(outputs)\n\u001b[0;32m    166\u001b[0m \u001b[39mif\u001b[39;00m include_run_info:\n",
      "File \u001b[1;32mc:\\Users\\bcamaster\\AppData\\Local\\Programs\\Python\\Python310\\lib\\site-packages\\langchain\\chains\\base.py:153\u001b[0m, in \u001b[0;36mChain.invoke\u001b[1;34m(self, input, config, **kwargs)\u001b[0m\n\u001b[0;32m    150\u001b[0m \u001b[39mtry\u001b[39;00m:\n\u001b[0;32m    151\u001b[0m     \u001b[39mself\u001b[39m\u001b[39m.\u001b[39m_validate_inputs(inputs)\n\u001b[0;32m    152\u001b[0m     outputs \u001b[39m=\u001b[39m (\n\u001b[1;32m--> 153\u001b[0m         \u001b[39mself\u001b[39;49m\u001b[39m.\u001b[39;49m_call(inputs, run_manager\u001b[39m=\u001b[39;49mrun_manager)\n\u001b[0;32m    154\u001b[0m         \u001b[39mif\u001b[39;00m new_arg_supported\n\u001b[0;32m    155\u001b[0m         \u001b[39melse\u001b[39;00m \u001b[39mself\u001b[39m\u001b[39m.\u001b[39m_call(inputs)\n\u001b[0;32m    156\u001b[0m     )\n\u001b[0;32m    158\u001b[0m     final_outputs: Dict[\u001b[39mstr\u001b[39m, Any] \u001b[39m=\u001b[39m \u001b[39mself\u001b[39m\u001b[39m.\u001b[39mprep_outputs(\n\u001b[0;32m    159\u001b[0m         inputs, outputs, return_only_outputs\n\u001b[0;32m    160\u001b[0m     )\n\u001b[0;32m    161\u001b[0m \u001b[39mexcept\u001b[39;00m \u001b[39mBaseException\u001b[39;00m \u001b[39mas\u001b[39;00m e:\n",
      "File \u001b[1;32mc:\\Users\\bcamaster\\AppData\\Local\\Programs\\Python\\Python310\\lib\\site-packages\\langchain\\chains\\combine_documents\\base.py:137\u001b[0m, in \u001b[0;36mBaseCombineDocumentsChain._call\u001b[1;34m(self, inputs, run_manager)\u001b[0m\n\u001b[0;32m    135\u001b[0m \u001b[39m# Other keys are assumed to be needed for LLM prediction\u001b[39;00m\n\u001b[0;32m    136\u001b[0m other_keys \u001b[39m=\u001b[39m {k: v \u001b[39mfor\u001b[39;00m k, v \u001b[39min\u001b[39;00m inputs\u001b[39m.\u001b[39mitems() \u001b[39mif\u001b[39;00m k \u001b[39m!=\u001b[39m \u001b[39mself\u001b[39m\u001b[39m.\u001b[39minput_key}\n\u001b[1;32m--> 137\u001b[0m output, extra_return_dict \u001b[39m=\u001b[39m \u001b[39mself\u001b[39m\u001b[39m.\u001b[39mcombine_docs(\n\u001b[0;32m    138\u001b[0m     docs, callbacks\u001b[39m=\u001b[39m_run_manager\u001b[39m.\u001b[39mget_child(), \u001b[39m*\u001b[39m\u001b[39m*\u001b[39mother_keys\n\u001b[0;32m    139\u001b[0m )\n\u001b[0;32m    140\u001b[0m extra_return_dict[\u001b[39mself\u001b[39m\u001b[39m.\u001b[39moutput_key] \u001b[39m=\u001b[39m output\n\u001b[0;32m    141\u001b[0m \u001b[39mreturn\u001b[39;00m extra_return_dict\n",
      "File \u001b[1;32mc:\\Users\\bcamaster\\AppData\\Local\\Programs\\Python\\Python310\\lib\\site-packages\\langchain\\chains\\combine_documents\\stuff.py:244\u001b[0m, in \u001b[0;36mStuffDocumentsChain.combine_docs\u001b[1;34m(self, docs, callbacks, **kwargs)\u001b[0m\n\u001b[0;32m    242\u001b[0m inputs \u001b[39m=\u001b[39m \u001b[39mself\u001b[39m\u001b[39m.\u001b[39m_get_inputs(docs, \u001b[39m*\u001b[39m\u001b[39m*\u001b[39mkwargs)\n\u001b[0;32m    243\u001b[0m \u001b[39m# Call predict on the LLM.\u001b[39;00m\n\u001b[1;32m--> 244\u001b[0m \u001b[39mreturn\u001b[39;00m \u001b[39mself\u001b[39m\u001b[39m.\u001b[39mllm_chain\u001b[39m.\u001b[39mpredict(callbacks\u001b[39m=\u001b[39mcallbacks, \u001b[39m*\u001b[39m\u001b[39m*\u001b[39minputs), {}\n",
      "File \u001b[1;32mc:\\Users\\bcamaster\\AppData\\Local\\Programs\\Python\\Python310\\lib\\site-packages\\langchain\\chains\\llm.py:293\u001b[0m, in \u001b[0;36mLLMChain.predict\u001b[1;34m(self, callbacks, **kwargs)\u001b[0m\n\u001b[0;32m    278\u001b[0m \u001b[39mdef\u001b[39;00m \u001b[39mpredict\u001b[39m(\u001b[39mself\u001b[39m, callbacks: Callbacks \u001b[39m=\u001b[39m \u001b[39mNone\u001b[39;00m, \u001b[39m*\u001b[39m\u001b[39m*\u001b[39mkwargs: Any) \u001b[39m-\u001b[39m\u001b[39m>\u001b[39m \u001b[39mstr\u001b[39m:\n\u001b[0;32m    279\u001b[0m     \u001b[39m\"\"\"Format prompt with kwargs and pass to LLM.\u001b[39;00m\n\u001b[0;32m    280\u001b[0m \n\u001b[0;32m    281\u001b[0m \u001b[39m    Args:\u001b[39;00m\n\u001b[1;32m   (...)\u001b[0m\n\u001b[0;32m    291\u001b[0m \u001b[39m            completion = llm.predict(adjective=\"funny\")\u001b[39;00m\n\u001b[0;32m    292\u001b[0m \u001b[39m    \"\"\"\u001b[39;00m\n\u001b[1;32m--> 293\u001b[0m     \u001b[39mreturn\u001b[39;00m \u001b[39mself\u001b[39;49m(kwargs, callbacks\u001b[39m=\u001b[39;49mcallbacks)[\u001b[39mself\u001b[39m\u001b[39m.\u001b[39moutput_key]\n",
      "File \u001b[1;32mc:\\Users\\bcamaster\\AppData\\Local\\Programs\\Python\\Python310\\lib\\site-packages\\langchain_core\\_api\\deprecation.py:145\u001b[0m, in \u001b[0;36mdeprecated.<locals>.deprecate.<locals>.warning_emitting_wrapper\u001b[1;34m(*args, **kwargs)\u001b[0m\n\u001b[0;32m    143\u001b[0m     warned \u001b[39m=\u001b[39m \u001b[39mTrue\u001b[39;00m\n\u001b[0;32m    144\u001b[0m     emit_warning()\n\u001b[1;32m--> 145\u001b[0m \u001b[39mreturn\u001b[39;00m wrapped(\u001b[39m*\u001b[39margs, \u001b[39m*\u001b[39m\u001b[39m*\u001b[39mkwargs)\n",
      "File \u001b[1;32mc:\\Users\\bcamaster\\AppData\\Local\\Programs\\Python\\Python310\\lib\\site-packages\\langchain\\chains\\base.py:378\u001b[0m, in \u001b[0;36mChain.__call__\u001b[1;34m(self, inputs, return_only_outputs, callbacks, tags, metadata, run_name, include_run_info)\u001b[0m\n\u001b[0;32m    346\u001b[0m \u001b[39m\"\"\"Execute the chain.\u001b[39;00m\n\u001b[0;32m    347\u001b[0m \n\u001b[0;32m    348\u001b[0m \u001b[39mArgs:\u001b[39;00m\n\u001b[1;32m   (...)\u001b[0m\n\u001b[0;32m    369\u001b[0m \u001b[39m        `Chain.output_keys`.\u001b[39;00m\n\u001b[0;32m    370\u001b[0m \u001b[39m\"\"\"\u001b[39;00m\n\u001b[0;32m    371\u001b[0m config \u001b[39m=\u001b[39m {\n\u001b[0;32m    372\u001b[0m     \u001b[39m\"\u001b[39m\u001b[39mcallbacks\u001b[39m\u001b[39m\"\u001b[39m: callbacks,\n\u001b[0;32m    373\u001b[0m     \u001b[39m\"\u001b[39m\u001b[39mtags\u001b[39m\u001b[39m\"\u001b[39m: tags,\n\u001b[0;32m    374\u001b[0m     \u001b[39m\"\u001b[39m\u001b[39mmetadata\u001b[39m\u001b[39m\"\u001b[39m: metadata,\n\u001b[0;32m    375\u001b[0m     \u001b[39m\"\u001b[39m\u001b[39mrun_name\u001b[39m\u001b[39m\"\u001b[39m: run_name,\n\u001b[0;32m    376\u001b[0m }\n\u001b[1;32m--> 378\u001b[0m \u001b[39mreturn\u001b[39;00m \u001b[39mself\u001b[39;49m\u001b[39m.\u001b[39;49minvoke(\n\u001b[0;32m    379\u001b[0m     inputs,\n\u001b[0;32m    380\u001b[0m     cast(RunnableConfig, {k: v \u001b[39mfor\u001b[39;49;00m k, v \u001b[39min\u001b[39;49;00m config\u001b[39m.\u001b[39;49mitems() \u001b[39mif\u001b[39;49;00m v \u001b[39mis\u001b[39;49;00m \u001b[39mnot\u001b[39;49;00m \u001b[39mNone\u001b[39;49;00m}),\n\u001b[0;32m    381\u001b[0m     return_only_outputs\u001b[39m=\u001b[39;49mreturn_only_outputs,\n\u001b[0;32m    382\u001b[0m     include_run_info\u001b[39m=\u001b[39;49minclude_run_info,\n\u001b[0;32m    383\u001b[0m )\n",
      "File \u001b[1;32mc:\\Users\\bcamaster\\AppData\\Local\\Programs\\Python\\Python310\\lib\\site-packages\\langchain\\chains\\base.py:163\u001b[0m, in \u001b[0;36mChain.invoke\u001b[1;34m(self, input, config, **kwargs)\u001b[0m\n\u001b[0;32m    161\u001b[0m \u001b[39mexcept\u001b[39;00m \u001b[39mBaseException\u001b[39;00m \u001b[39mas\u001b[39;00m e:\n\u001b[0;32m    162\u001b[0m     run_manager\u001b[39m.\u001b[39mon_chain_error(e)\n\u001b[1;32m--> 163\u001b[0m     \u001b[39mraise\u001b[39;00m e\n\u001b[0;32m    164\u001b[0m run_manager\u001b[39m.\u001b[39mon_chain_end(outputs)\n\u001b[0;32m    166\u001b[0m \u001b[39mif\u001b[39;00m include_run_info:\n",
      "File \u001b[1;32mc:\\Users\\bcamaster\\AppData\\Local\\Programs\\Python\\Python310\\lib\\site-packages\\langchain\\chains\\base.py:153\u001b[0m, in \u001b[0;36mChain.invoke\u001b[1;34m(self, input, config, **kwargs)\u001b[0m\n\u001b[0;32m    150\u001b[0m \u001b[39mtry\u001b[39;00m:\n\u001b[0;32m    151\u001b[0m     \u001b[39mself\u001b[39m\u001b[39m.\u001b[39m_validate_inputs(inputs)\n\u001b[0;32m    152\u001b[0m     outputs \u001b[39m=\u001b[39m (\n\u001b[1;32m--> 153\u001b[0m         \u001b[39mself\u001b[39;49m\u001b[39m.\u001b[39;49m_call(inputs, run_manager\u001b[39m=\u001b[39;49mrun_manager)\n\u001b[0;32m    154\u001b[0m         \u001b[39mif\u001b[39;00m new_arg_supported\n\u001b[0;32m    155\u001b[0m         \u001b[39melse\u001b[39;00m \u001b[39mself\u001b[39m\u001b[39m.\u001b[39m_call(inputs)\n\u001b[0;32m    156\u001b[0m     )\n\u001b[0;32m    158\u001b[0m     final_outputs: Dict[\u001b[39mstr\u001b[39m, Any] \u001b[39m=\u001b[39m \u001b[39mself\u001b[39m\u001b[39m.\u001b[39mprep_outputs(\n\u001b[0;32m    159\u001b[0m         inputs, outputs, return_only_outputs\n\u001b[0;32m    160\u001b[0m     )\n\u001b[0;32m    161\u001b[0m \u001b[39mexcept\u001b[39;00m \u001b[39mBaseException\u001b[39;00m \u001b[39mas\u001b[39;00m e:\n",
      "File \u001b[1;32mc:\\Users\\bcamaster\\AppData\\Local\\Programs\\Python\\Python310\\lib\\site-packages\\langchain\\chains\\llm.py:103\u001b[0m, in \u001b[0;36mLLMChain._call\u001b[1;34m(self, inputs, run_manager)\u001b[0m\n\u001b[0;32m     98\u001b[0m \u001b[39mdef\u001b[39;00m \u001b[39m_call\u001b[39m(\n\u001b[0;32m     99\u001b[0m     \u001b[39mself\u001b[39m,\n\u001b[0;32m    100\u001b[0m     inputs: Dict[\u001b[39mstr\u001b[39m, Any],\n\u001b[0;32m    101\u001b[0m     run_manager: Optional[CallbackManagerForChainRun] \u001b[39m=\u001b[39m \u001b[39mNone\u001b[39;00m,\n\u001b[0;32m    102\u001b[0m ) \u001b[39m-\u001b[39m\u001b[39m>\u001b[39m Dict[\u001b[39mstr\u001b[39m, \u001b[39mstr\u001b[39m]:\n\u001b[1;32m--> 103\u001b[0m     response \u001b[39m=\u001b[39m \u001b[39mself\u001b[39;49m\u001b[39m.\u001b[39;49mgenerate([inputs], run_manager\u001b[39m=\u001b[39;49mrun_manager)\n\u001b[0;32m    104\u001b[0m     \u001b[39mreturn\u001b[39;00m \u001b[39mself\u001b[39m\u001b[39m.\u001b[39mcreate_outputs(response)[\u001b[39m0\u001b[39m]\n",
      "File \u001b[1;32mc:\\Users\\bcamaster\\AppData\\Local\\Programs\\Python\\Python310\\lib\\site-packages\\langchain\\chains\\llm.py:130\u001b[0m, in \u001b[0;36mLLMChain.generate\u001b[1;34m(self, input_list, run_manager)\u001b[0m\n\u001b[0;32m    128\u001b[0m         generations\u001b[39m.\u001b[39mappend([ChatGeneration(message\u001b[39m=\u001b[39mres)])\n\u001b[0;32m    129\u001b[0m     \u001b[39melse\u001b[39;00m:\n\u001b[1;32m--> 130\u001b[0m         generations\u001b[39m.\u001b[39mappend([Generation(text\u001b[39m=\u001b[39;49mres)])\n\u001b[0;32m    131\u001b[0m \u001b[39mreturn\u001b[39;00m LLMResult(generations\u001b[39m=\u001b[39mgenerations)\n",
      "File \u001b[1;32mc:\\Users\\bcamaster\\AppData\\Local\\Programs\\Python\\Python310\\lib\\site-packages\\langchain_core\\load\\serializable.py:120\u001b[0m, in \u001b[0;36mSerializable.__init__\u001b[1;34m(self, **kwargs)\u001b[0m\n\u001b[0;32m    119\u001b[0m \u001b[39mdef\u001b[39;00m \u001b[39m__init__\u001b[39m(\u001b[39mself\u001b[39m, \u001b[39m*\u001b[39m\u001b[39m*\u001b[39mkwargs: Any) \u001b[39m-\u001b[39m\u001b[39m>\u001b[39m \u001b[39mNone\u001b[39;00m:\n\u001b[1;32m--> 120\u001b[0m     \u001b[39msuper\u001b[39m()\u001b[39m.\u001b[39m\u001b[39m__init__\u001b[39m(\u001b[39m*\u001b[39m\u001b[39m*\u001b[39mkwargs)\n\u001b[0;32m    121\u001b[0m     \u001b[39mself\u001b[39m\u001b[39m.\u001b[39m_lc_kwargs \u001b[39m=\u001b[39m kwargs\n",
      "File \u001b[1;32mc:\\Users\\bcamaster\\AppData\\Local\\Programs\\Python\\Python310\\lib\\site-packages\\pydantic\\v1\\main.py:341\u001b[0m, in \u001b[0;36mBaseModel.__init__\u001b[1;34m(__pydantic_self__, **data)\u001b[0m\n\u001b[0;32m    339\u001b[0m values, fields_set, validation_error \u001b[39m=\u001b[39m validate_model(__pydantic_self__\u001b[39m.\u001b[39m\u001b[39m__class__\u001b[39m, data)\n\u001b[0;32m    340\u001b[0m \u001b[39mif\u001b[39;00m validation_error:\n\u001b[1;32m--> 341\u001b[0m     \u001b[39mraise\u001b[39;00m validation_error\n\u001b[0;32m    342\u001b[0m \u001b[39mtry\u001b[39;00m:\n\u001b[0;32m    343\u001b[0m     object_setattr(__pydantic_self__, \u001b[39m'\u001b[39m\u001b[39m__dict__\u001b[39m\u001b[39m'\u001b[39m, values)\n",
      "\u001b[1;31mValidationError\u001b[0m: 1 validation error for Generation\ntext\n  str type expected (type=type_error.str)"
     ]
    }
   ],
   "source": [
    "chat_history = []\n",
    "question = \"what is commonwealth?\"\n",
    "# result = bot.invoke({\"question\": question, \"chat_history\": chat_history}) #validation error\n",
    "# result = bot({\"question\": question, \"chat_history\": chat_history}) #validation error\n",
    "\n",
    "# result = bot.invoke(\"what is commonwealth?\") # gk bisa karena perlu input keys\n",
    "# result = bot.invoke({\"question\": question}) #Missing some input keys: {'chat_history'}"
   ]
  },
  {
   "cell_type": "code",
   "execution_count": null,
   "metadata": {},
   "outputs": [
    {
     "ename": "NameError",
     "evalue": "name 'result' is not defined",
     "output_type": "error",
     "traceback": [
      "\u001b[1;31m---------------------------------------------------------------------------\u001b[0m",
      "\u001b[1;31mNameError\u001b[0m                                 Traceback (most recent call last)",
      "\u001b[1;32mc:\\Users\\bcamaster\\OneDrive - Bina Nusantara\\Machine Learning Roadmap\\VectaraHackaton\\App\\new.ipynb Cell 12\u001b[0m in \u001b[0;36m<cell line: 1>\u001b[1;34m()\u001b[0m\n\u001b[1;32m----> <a href='vscode-notebook-cell:/c%3A/Users/bcamaster/OneDrive%20-%20Bina%20Nusantara/Machine%20Learning%20Roadmap/VectaraHackaton/App/new.ipynb#X16sZmlsZQ%3D%3D?line=0'>1</a>\u001b[0m result[\u001b[39m\"\u001b[39m\u001b[39manswer\u001b[39m\u001b[39m\"\u001b[39m]\n",
      "\u001b[1;31mNameError\u001b[0m: name 'result' is not defined"
     ]
    }
   ],
   "source": [
    "result[\"answer\"]"
   ]
  }
 ],
 "metadata": {
  "kernelspec": {
   "display_name": "Python 3.10.6 64-bit",
   "language": "python",
   "name": "python3"
  },
  "language_info": {
   "codemirror_mode": {
    "name": "ipython",
    "version": 3
   },
   "file_extension": ".py",
   "mimetype": "text/x-python",
   "name": "python",
   "nbconvert_exporter": "python",
   "pygments_lexer": "ipython3",
   "version": "3.10.6"
  },
  "orig_nbformat": 4,
  "vscode": {
   "interpreter": {
    "hash": "6fff6653d2e8d1708d6cf49bd9b145b1784fc75233edee07bc358c156e76e180"
   }
  }
 },
 "nbformat": 4,
 "nbformat_minor": 2
}
